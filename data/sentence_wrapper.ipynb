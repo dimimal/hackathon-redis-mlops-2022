{
 "cells": [
  {
   "cell_type": "markdown",
   "id": "719b7346-4479-4845-9a1b-86e47202286f",
   "metadata": {},
   "source": [
    "### Wrapper to wrap the sentence model with the tokeniser and clean descriptor"
   ]
  },
  {
   "cell_type": "code",
   "execution_count": 1,
   "id": "ed9a72b9-7f75-4f65-9aec-bc8b685a7c80",
   "metadata": {
    "execution": {
     "iopub.execute_input": "2022-11-07T12:38:12.451410Z",
     "iopub.status.busy": "2022-11-07T12:38:12.451093Z",
     "iopub.status.idle": "2022-11-07T12:38:14.105466Z",
     "shell.execute_reply": "2022-11-07T12:38:14.104855Z",
     "shell.execute_reply.started": "2022-11-07T12:38:12.451359Z"
    },
    "tags": []
   },
   "outputs": [],
   "source": [
    "import torch\n",
    "from sentence_transformers import SentenceTransformer\n"
   ]
  },
  {
   "cell_type": "code",
   "execution_count": 9,
   "id": "2d882cea-6371-41e7-8765-0917fb42a741",
   "metadata": {
    "execution": {
     "iopub.execute_input": "2022-11-07T01:04:19.166631Z",
     "iopub.status.busy": "2022-11-07T01:04:19.166284Z",
     "iopub.status.idle": "2022-11-07T01:04:22.395751Z",
     "shell.execute_reply": "2022-11-07T01:04:22.395160Z",
     "shell.execute_reply.started": "2022-11-07T01:04:19.166611Z"
    },
    "tags": []
   },
   "outputs": [],
   "source": [
    "\n",
    "model = SentenceTransformer('sentence-transformers/all-mpnet-base-v2', device='cpu')"
   ]
  },
  {
   "cell_type": "code",
   "execution_count": null,
   "id": "327fcac4-9e64-4226-9e22-0f794ee44a0e",
   "metadata": {
    "tags": []
   },
   "outputs": [],
   "source": [
    "dir(model)"
   ]
  },
  {
   "cell_type": "code",
   "execution_count": 15,
   "id": "fd862161-99ce-4bf6-b933-4f133e6cb15b",
   "metadata": {
    "execution": {
     "iopub.execute_input": "2022-11-07T01:05:42.382488Z",
     "iopub.status.busy": "2022-11-07T01:05:42.382121Z",
     "iopub.status.idle": "2022-11-07T01:05:42.404493Z",
     "shell.execute_reply": "2022-11-07T01:05:42.403884Z",
     "shell.execute_reply.started": "2022-11-07T01:05:42.382466Z"
    },
    "tags": []
   },
   "outputs": [],
   "source": [
    "value = model.encode(\"physics are bueatiful\")"
   ]
  },
  {
   "cell_type": "code",
   "execution_count": null,
   "id": "366d9fe6-abe6-4313-9d74-45309f78e8dc",
   "metadata": {
    "tags": []
   },
   "outputs": [],
   "source": [
    "dir(model)"
   ]
  },
  {
   "cell_type": "code",
   "execution_count": 16,
   "id": "ad8df4c0-428d-4a6a-bb57-25ffc2386712",
   "metadata": {
    "execution": {
     "iopub.execute_input": "2022-11-07T01:05:42.958617Z",
     "iopub.status.busy": "2022-11-07T01:05:42.958260Z",
     "iopub.status.idle": "2022-11-07T01:05:42.962484Z",
     "shell.execute_reply": "2022-11-07T01:05:42.961999Z",
     "shell.execute_reply.started": "2022-11-07T01:05:42.958594Z"
    },
    "tags": []
   },
   "outputs": [
    {
     "data": {
      "text/plain": [
       "(768,)"
      ]
     },
     "execution_count": 16,
     "metadata": {},
     "output_type": "execute_result"
    }
   ],
   "source": [
    "value.shape"
   ]
  },
  {
   "cell_type": "code",
   "execution_count": 10,
   "id": "c4387bce-3198-4c83-8c76-a3f53c38ed9f",
   "metadata": {
    "execution": {
     "iopub.execute_input": "2022-11-04T14:31:31.268425Z",
     "iopub.status.busy": "2022-11-04T14:31:31.268019Z",
     "iopub.status.idle": "2022-11-04T14:31:31.705918Z",
     "shell.execute_reply": "2022-11-04T14:31:31.705303Z",
     "shell.execute_reply.started": "2022-11-04T14:31:31.268402Z"
    },
    "tags": []
   },
   "outputs": [],
   "source": [
    "model.save(\"model_transformer.pkl\")"
   ]
  },
  {
   "cell_type": "code",
   "execution_count": 11,
   "id": "b7472dbe-be6f-45c5-91e9-56a1dae21522",
   "metadata": {
    "execution": {
     "iopub.execute_input": "2022-11-04T14:31:50.195644Z",
     "iopub.status.busy": "2022-11-04T14:31:50.195256Z",
     "iopub.status.idle": "2022-11-04T14:31:51.339863Z",
     "shell.execute_reply": "2022-11-04T14:31:51.339262Z",
     "shell.execute_reply.started": "2022-11-04T14:31:50.195621Z"
    }
   },
   "outputs": [],
   "source": [
    "loaded_model = SentenceTransformer(\"model_transformer.pkl\")"
   ]
  },
  {
   "cell_type": "code",
   "execution_count": 8,
   "id": "004330b1-da69-4b94-a415-7e09465d996e",
   "metadata": {
    "execution": {
     "iopub.execute_input": "2022-11-04T16:24:31.422082Z",
     "iopub.status.busy": "2022-11-04T16:24:31.421656Z",
     "iopub.status.idle": "2022-11-04T16:24:31.426217Z",
     "shell.execute_reply": "2022-11-04T16:24:31.425657Z",
     "shell.execute_reply.started": "2022-11-04T16:24:31.422055Z"
    },
    "tags": []
   },
   "outputs": [
    {
     "data": {
      "text/plain": [
       "<bound method SentenceTransformer.get_sentence_embedding_dimension of SentenceTransformer(\n",
       "  (0): Transformer({'max_seq_length': 384, 'do_lower_case': False}) with Transformer model: MPNetModel \n",
       "  (1): Pooling({'word_embedding_dimension': 768, 'pooling_mode_cls_token': False, 'pooling_mode_mean_tokens': True, 'pooling_mode_max_tokens': False, 'pooling_mode_mean_sqrt_len_tokens': False})\n",
       "  (2): Normalize()\n",
       ")>"
      ]
     },
     "execution_count": 8,
     "metadata": {},
     "output_type": "execute_result"
    }
   ],
   "source": [
    "model.get_submodule"
   ]
  },
  {
   "cell_type": "code",
   "execution_count": 9,
   "id": "a23f6baf-9ed5-4906-ad92-e2b6d5f93c9f",
   "metadata": {
    "execution": {
     "iopub.execute_input": "2022-11-04T16:25:58.020102Z",
     "iopub.status.busy": "2022-11-04T16:25:58.019695Z",
     "iopub.status.idle": "2022-11-04T16:25:58.023437Z",
     "shell.execute_reply": "2022-11-04T16:25:58.022616Z",
     "shell.execute_reply.started": "2022-11-04T16:25:58.020076Z"
    },
    "tags": []
   },
   "outputs": [],
   "source": [
    "# dir(model)"
   ]
  },
  {
   "cell_type": "markdown",
   "id": "ac3c9f44-9e81-4868-bfa6-2497cefb4f08",
   "metadata": {},
   "source": [
    "### Export model to torchscript "
   ]
  },
  {
   "cell_type": "code",
   "execution_count": 13,
   "id": "7af54acf-0130-4162-b75d-2410640386a8",
   "metadata": {
    "execution": {
     "iopub.execute_input": "2022-11-04T16:33:06.253977Z",
     "iopub.status.busy": "2022-11-04T16:33:06.253547Z",
     "iopub.status.idle": "2022-11-04T16:33:08.056231Z",
     "shell.execute_reply": "2022-11-04T16:33:08.055593Z",
     "shell.execute_reply.started": "2022-11-04T16:33:06.253949Z"
    },
    "tags": []
   },
   "outputs": [],
   "source": [
    "model.eval()\n",
    "batch_size = 1\n",
    "max_seq_length = 784\n",
    "device = torch.device(\"cpu\")\n",
    "model.to(device)\n",
    "input_ids = torch.zeros(batch_size, max_seq_length, dtype=torch.long).to(device)\n",
    "input_type_ids = torch.zeros(batch_size, max_seq_length, dtype=torch.long).to(device)\n",
    "input_mask = torch.zeros(batch_size, max_seq_length, dtype=torch.long).to(device)\n",
    "input_features = (input_ids, input_type_ids, input_mask)\n",
    "\n",
    "traced_model = torch.jit.trace(model, ({'input_ids': input_ids, 'attention_mask': input_mask}), strict=False)\n"
   ]
  },
  {
   "cell_type": "code",
   "execution_count": 14,
   "id": "22b3f162-cd76-4ebd-b2d7-c61fca04ca6f",
   "metadata": {
    "execution": {
     "iopub.execute_input": "2022-11-04T16:34:57.110013Z",
     "iopub.status.busy": "2022-11-04T16:34:57.109594Z",
     "iopub.status.idle": "2022-11-04T16:34:57.601249Z",
     "shell.execute_reply": "2022-11-04T16:34:57.600647Z",
     "shell.execute_reply.started": "2022-11-04T16:34:57.109987Z"
    }
   },
   "outputs": [],
   "source": [
    "traced_model.save(\"sent_bert_torchscript.pt\")"
   ]
  },
  {
   "cell_type": "code",
   "execution_count": null,
   "id": "75afbe62-8afe-4b90-9234-26f06223784c",
   "metadata": {},
   "outputs": [],
   "source": [
    "import torch "
   ]
  },
  {
   "cell_type": "code",
   "execution_count": 2,
   "id": "dc93479f-77f6-45cf-9605-75d2921420fa",
   "metadata": {
    "execution": {
     "iopub.execute_input": "2022-11-07T12:38:21.307050Z",
     "iopub.status.busy": "2022-11-07T12:38:21.306659Z",
     "iopub.status.idle": "2022-11-07T12:38:21.337009Z",
     "shell.execute_reply": "2022-11-07T12:38:21.336467Z",
     "shell.execute_reply.started": "2022-11-07T12:38:21.307024Z"
    },
    "tags": []
   },
   "outputs": [],
   "source": [
    "import redisai as rai\n",
    "import ml2rt\n",
    "from torch import jit\n",
    "# from redisai.model import Model as raimodel\n",
    "# try:\n",
    "#     if rai.__version__ < '0.3.0':\n",
    "#         raise\n",
    "# except:\n",
    "#     raise RuntimeError('ONNX is introduced in redisai-py version 0.3.0. Upgrade!!')"
   ]
  },
  {
   "cell_type": "code",
   "execution_count": 3,
   "id": "ed4270b1-27d4-45ba-a478-fa6c7097457e",
   "metadata": {
    "execution": {
     "iopub.execute_input": "2022-11-07T12:38:22.583321Z",
     "iopub.status.busy": "2022-11-07T12:38:22.582940Z",
     "iopub.status.idle": "2022-11-07T12:38:22.586857Z",
     "shell.execute_reply": "2022-11-07T12:38:22.586301Z",
     "shell.execute_reply.started": "2022-11-07T12:38:22.583296Z"
    },
    "tags": []
   },
   "outputs": [],
   "source": [
    "con = rai.Client(host=\"redis-16159.c21898.eu-west-1-1.ec2.cloud.rlrcp.com\", port=16159)\n"
   ]
  },
  {
   "cell_type": "code",
   "execution_count": 6,
   "id": "3e919362-61ea-489f-ab57-fb1112037aec",
   "metadata": {
    "execution": {
     "iopub.execute_input": "2022-11-07T13:02:05.738072Z",
     "iopub.status.busy": "2022-11-07T13:02:05.737687Z",
     "iopub.status.idle": "2022-11-07T13:02:05.750784Z",
     "shell.execute_reply": "2022-11-07T13:02:05.750115Z",
     "shell.execute_reply.started": "2022-11-07T13:02:05.738046Z"
    }
   },
   "outputs": [
    {
     "ename": "AttributeError",
     "evalue": "module 'redisai' has no attribute 'execute_command'",
     "output_type": "error",
     "traceback": [
      "\u001b[0;31m---------------------------------------------------------------------------\u001b[0m",
      "\u001b[0;31mAttributeError\u001b[0m                            Traceback (most recent call last)",
      "Cell \u001b[0;32mIn [6], line 1\u001b[0m\n\u001b[0;32m----> 1\u001b[0m rai\u001b[38;5;241m.\u001b[39mexecute_command(\u001b[38;5;124m'\u001b[39m\u001b[38;5;124mAI.TENSORGET\u001b[39m\u001b[38;5;124m'\u001b[39m, \u001b[38;5;124m'\u001b[39m\u001b[38;5;124minput_string\u001b[39m\u001b[38;5;124m'\u001b[39m, \u001b[38;5;124m'\u001b[39m\u001b[38;5;124mSTRING\u001b[39m\u001b[38;5;124m'\u001b[39m, \u001b[38;5;241m1\u001b[39m, \u001b[38;5;241m1\u001b[39m, \u001b[38;5;124m'\u001b[39m\u001b[38;5;124mVALUES\u001b[39m\u001b[38;5;124m'\u001b[39m, input_string)\n",
      "\u001b[0;31mAttributeError\u001b[0m: module 'redisai' has no attribute 'execute_command'"
     ]
    }
   ],
   "source": [
    "rai.execute_command('AI.TENSORGET', 'input_string', 'STRING', 1, 1, 'VALUES', input_string)\n"
   ]
  },
  {
   "cell_type": "code",
   "execution_count": 7,
   "id": "b173dc7b-1f21-49e1-a7cd-6b47978bcf78",
   "metadata": {
    "execution": {
     "iopub.execute_input": "2022-11-07T13:02:33.569472Z",
     "iopub.status.busy": "2022-11-07T13:02:33.569081Z",
     "iopub.status.idle": "2022-11-07T13:02:33.581591Z",
     "shell.execute_reply": "2022-11-07T13:02:33.580918Z",
     "shell.execute_reply.started": "2022-11-07T13:02:33.569445Z"
    }
   },
   "outputs": [
    {
     "ename": "AttributeError",
     "evalue": "module 'redisai' has no attribute 'Tensor'",
     "output_type": "error",
     "traceback": [
      "\u001b[0;31m---------------------------------------------------------------------------\u001b[0m",
      "\u001b[0;31mAttributeError\u001b[0m                            Traceback (most recent call last)",
      "Cell \u001b[0;32mIn [7], line 1\u001b[0m\n\u001b[0;32m----> 1\u001b[0m rai\u001b[38;5;241m.\u001b[39mTensor()\n",
      "\u001b[0;31mAttributeError\u001b[0m: module 'redisai' has no attribute 'Tensor'"
     ]
    }
   ],
   "source": [
    "rai.Tensor()"
   ]
  },
  {
   "cell_type": "markdown",
   "id": "0cdc04f5-efb7-4162-8080-de104809c67b",
   "metadata": {},
   "source": [
    "### Test model to redisAI client"
   ]
  },
  {
   "cell_type": "code",
   "execution_count": 5,
   "id": "e55c9675-ae0f-4528-b3e3-de51f14489ba",
   "metadata": {
    "execution": {
     "iopub.execute_input": "2022-11-07T12:38:48.405131Z",
     "iopub.status.busy": "2022-11-07T12:38:48.404733Z",
     "iopub.status.idle": "2022-11-07T12:38:48.780304Z",
     "shell.execute_reply": "2022-11-07T12:38:48.779491Z",
     "shell.execute_reply.started": "2022-11-07T12:38:48.405105Z"
    },
    "tags": []
   },
   "outputs": [
    {
     "ename": "ResponseError",
     "evalue": "unknown command 'AI.TENSORGET'",
     "output_type": "error",
     "traceback": [
      "\u001b[0;31m---------------------------------------------------------------------------\u001b[0m",
      "\u001b[0;31mResponseError\u001b[0m                             Traceback (most recent call last)",
      "Cell \u001b[0;32mIn [5], line 21\u001b[0m\n\u001b[1;32m     17\u001b[0m pt_model \u001b[38;5;241m=\u001b[39m ml2rt\u001b[38;5;241m.\u001b[39mload_model(pt_model_path)\n\u001b[1;32m     18\u001b[0m \u001b[38;5;66;03m# script = ml2rt.load_script(script_path)\u001b[39;00m\n\u001b[1;32m     19\u001b[0m \n\u001b[1;32m     20\u001b[0m \u001b[38;5;66;03m# out1 = con.modelset('sent-embed-model', 'torch', device, pt_model)\u001b[39;00m\n\u001b[0;32m---> 21\u001b[0m out1 \u001b[38;5;241m=\u001b[39m con\u001b[38;5;241m.\u001b[39mexecute_command(\u001b[38;5;124m'\u001b[39m\u001b[38;5;124mAI.TENSORGET\u001b[39m\u001b[38;5;124m'\u001b[39m, \u001b[38;5;124m'\u001b[39m\u001b[38;5;124minput_string\u001b[39m\u001b[38;5;124m'\u001b[39m, \u001b[38;5;124m'\u001b[39m\u001b[38;5;124mSTRING\u001b[39m\u001b[38;5;124m'\u001b[39m, \u001b[38;5;241m1\u001b[39m, \u001b[38;5;241m1\u001b[39m, \u001b[38;5;124m'\u001b[39m\u001b[38;5;124mVALUES\u001b[39m\u001b[38;5;124m'\u001b[39m, input_string)\n\u001b[1;32m     23\u001b[0m \u001b[38;5;66;03m# out2 = con.scriptset('imagenet_script', device, script)\u001b[39;00m\n\u001b[1;32m     24\u001b[0m start_time \u001b[38;5;241m=\u001b[39m time\u001b[38;5;241m.\u001b[39mtime()\n",
      "File \u001b[0;32m/opt/saturncloud/envs/saturn/lib/python3.9/site-packages/redis/client.py:1238\u001b[0m, in \u001b[0;36mRedis.execute_command\u001b[0;34m(self, *args, **options)\u001b[0m\n\u001b[1;32m   1235\u001b[0m conn \u001b[38;5;241m=\u001b[39m \u001b[38;5;28mself\u001b[39m\u001b[38;5;241m.\u001b[39mconnection \u001b[38;5;129;01mor\u001b[39;00m pool\u001b[38;5;241m.\u001b[39mget_connection(command_name, \u001b[38;5;241m*\u001b[39m\u001b[38;5;241m*\u001b[39moptions)\n\u001b[1;32m   1237\u001b[0m \u001b[38;5;28;01mtry\u001b[39;00m:\n\u001b[0;32m-> 1238\u001b[0m     \u001b[38;5;28;01mreturn\u001b[39;00m \u001b[43mconn\u001b[49m\u001b[38;5;241;43m.\u001b[39;49m\u001b[43mretry\u001b[49m\u001b[38;5;241;43m.\u001b[39;49m\u001b[43mcall_with_retry\u001b[49m\u001b[43m(\u001b[49m\n\u001b[1;32m   1239\u001b[0m \u001b[43m        \u001b[49m\u001b[38;5;28;43;01mlambda\u001b[39;49;00m\u001b[43m:\u001b[49m\u001b[43m \u001b[49m\u001b[38;5;28;43mself\u001b[39;49m\u001b[38;5;241;43m.\u001b[39;49m\u001b[43m_send_command_parse_response\u001b[49m\u001b[43m(\u001b[49m\n\u001b[1;32m   1240\u001b[0m \u001b[43m            \u001b[49m\u001b[43mconn\u001b[49m\u001b[43m,\u001b[49m\u001b[43m \u001b[49m\u001b[43mcommand_name\u001b[49m\u001b[43m,\u001b[49m\u001b[43m \u001b[49m\u001b[38;5;241;43m*\u001b[39;49m\u001b[43margs\u001b[49m\u001b[43m,\u001b[49m\u001b[43m \u001b[49m\u001b[38;5;241;43m*\u001b[39;49m\u001b[38;5;241;43m*\u001b[39;49m\u001b[43moptions\u001b[49m\n\u001b[1;32m   1241\u001b[0m \u001b[43m        \u001b[49m\u001b[43m)\u001b[49m\u001b[43m,\u001b[49m\n\u001b[1;32m   1242\u001b[0m \u001b[43m        \u001b[49m\u001b[38;5;28;43;01mlambda\u001b[39;49;00m\u001b[43m \u001b[49m\u001b[43merror\u001b[49m\u001b[43m:\u001b[49m\u001b[43m \u001b[49m\u001b[38;5;28;43mself\u001b[39;49m\u001b[38;5;241;43m.\u001b[39;49m\u001b[43m_disconnect_raise\u001b[49m\u001b[43m(\u001b[49m\u001b[43mconn\u001b[49m\u001b[43m,\u001b[49m\u001b[43m \u001b[49m\u001b[43merror\u001b[49m\u001b[43m)\u001b[49m\u001b[43m,\u001b[49m\n\u001b[1;32m   1243\u001b[0m \u001b[43m    \u001b[49m\u001b[43m)\u001b[49m\n\u001b[1;32m   1244\u001b[0m \u001b[38;5;28;01mfinally\u001b[39;00m:\n\u001b[1;32m   1245\u001b[0m     \u001b[38;5;28;01mif\u001b[39;00m \u001b[38;5;129;01mnot\u001b[39;00m \u001b[38;5;28mself\u001b[39m\u001b[38;5;241m.\u001b[39mconnection:\n",
      "File \u001b[0;32m/opt/saturncloud/envs/saturn/lib/python3.9/site-packages/redis/retry.py:46\u001b[0m, in \u001b[0;36mRetry.call_with_retry\u001b[0;34m(self, do, fail)\u001b[0m\n\u001b[1;32m     44\u001b[0m \u001b[38;5;28;01mwhile\u001b[39;00m \u001b[38;5;28;01mTrue\u001b[39;00m:\n\u001b[1;32m     45\u001b[0m     \u001b[38;5;28;01mtry\u001b[39;00m:\n\u001b[0;32m---> 46\u001b[0m         \u001b[38;5;28;01mreturn\u001b[39;00m \u001b[43mdo\u001b[49m\u001b[43m(\u001b[49m\u001b[43m)\u001b[49m\n\u001b[1;32m     47\u001b[0m     \u001b[38;5;28;01mexcept\u001b[39;00m \u001b[38;5;28mself\u001b[39m\u001b[38;5;241m.\u001b[39m_supported_errors \u001b[38;5;28;01mas\u001b[39;00m error:\n\u001b[1;32m     48\u001b[0m         failures \u001b[38;5;241m+\u001b[39m\u001b[38;5;241m=\u001b[39m \u001b[38;5;241m1\u001b[39m\n",
      "File \u001b[0;32m/opt/saturncloud/envs/saturn/lib/python3.9/site-packages/redis/client.py:1239\u001b[0m, in \u001b[0;36mRedis.execute_command.<locals>.<lambda>\u001b[0;34m()\u001b[0m\n\u001b[1;32m   1235\u001b[0m conn \u001b[38;5;241m=\u001b[39m \u001b[38;5;28mself\u001b[39m\u001b[38;5;241m.\u001b[39mconnection \u001b[38;5;129;01mor\u001b[39;00m pool\u001b[38;5;241m.\u001b[39mget_connection(command_name, \u001b[38;5;241m*\u001b[39m\u001b[38;5;241m*\u001b[39moptions)\n\u001b[1;32m   1237\u001b[0m \u001b[38;5;28;01mtry\u001b[39;00m:\n\u001b[1;32m   1238\u001b[0m     \u001b[38;5;28;01mreturn\u001b[39;00m conn\u001b[38;5;241m.\u001b[39mretry\u001b[38;5;241m.\u001b[39mcall_with_retry(\n\u001b[0;32m-> 1239\u001b[0m         \u001b[38;5;28;01mlambda\u001b[39;00m: \u001b[38;5;28;43mself\u001b[39;49m\u001b[38;5;241;43m.\u001b[39;49m\u001b[43m_send_command_parse_response\u001b[49m\u001b[43m(\u001b[49m\n\u001b[1;32m   1240\u001b[0m \u001b[43m            \u001b[49m\u001b[43mconn\u001b[49m\u001b[43m,\u001b[49m\u001b[43m \u001b[49m\u001b[43mcommand_name\u001b[49m\u001b[43m,\u001b[49m\u001b[43m \u001b[49m\u001b[38;5;241;43m*\u001b[39;49m\u001b[43margs\u001b[49m\u001b[43m,\u001b[49m\u001b[43m \u001b[49m\u001b[38;5;241;43m*\u001b[39;49m\u001b[38;5;241;43m*\u001b[39;49m\u001b[43moptions\u001b[49m\n\u001b[1;32m   1241\u001b[0m \u001b[43m        \u001b[49m\u001b[43m)\u001b[49m,\n\u001b[1;32m   1242\u001b[0m         \u001b[38;5;28;01mlambda\u001b[39;00m error: \u001b[38;5;28mself\u001b[39m\u001b[38;5;241m.\u001b[39m_disconnect_raise(conn, error),\n\u001b[1;32m   1243\u001b[0m     )\n\u001b[1;32m   1244\u001b[0m \u001b[38;5;28;01mfinally\u001b[39;00m:\n\u001b[1;32m   1245\u001b[0m     \u001b[38;5;28;01mif\u001b[39;00m \u001b[38;5;129;01mnot\u001b[39;00m \u001b[38;5;28mself\u001b[39m\u001b[38;5;241m.\u001b[39mconnection:\n",
      "File \u001b[0;32m/opt/saturncloud/envs/saturn/lib/python3.9/site-packages/redis/client.py:1215\u001b[0m, in \u001b[0;36mRedis._send_command_parse_response\u001b[0;34m(self, conn, command_name, *args, **options)\u001b[0m\n\u001b[1;32m   1211\u001b[0m \u001b[38;5;124;03m\"\"\"\u001b[39;00m\n\u001b[1;32m   1212\u001b[0m \u001b[38;5;124;03mSend a command and parse the response\u001b[39;00m\n\u001b[1;32m   1213\u001b[0m \u001b[38;5;124;03m\"\"\"\u001b[39;00m\n\u001b[1;32m   1214\u001b[0m conn\u001b[38;5;241m.\u001b[39msend_command(\u001b[38;5;241m*\u001b[39margs)\n\u001b[0;32m-> 1215\u001b[0m \u001b[38;5;28;01mreturn\u001b[39;00m \u001b[38;5;28;43mself\u001b[39;49m\u001b[38;5;241;43m.\u001b[39;49m\u001b[43mparse_response\u001b[49m\u001b[43m(\u001b[49m\u001b[43mconn\u001b[49m\u001b[43m,\u001b[49m\u001b[43m \u001b[49m\u001b[43mcommand_name\u001b[49m\u001b[43m,\u001b[49m\u001b[43m \u001b[49m\u001b[38;5;241;43m*\u001b[39;49m\u001b[38;5;241;43m*\u001b[39;49m\u001b[43moptions\u001b[49m\u001b[43m)\u001b[49m\n",
      "File \u001b[0;32m/opt/saturncloud/envs/saturn/lib/python3.9/site-packages/redis/client.py:1254\u001b[0m, in \u001b[0;36mRedis.parse_response\u001b[0;34m(self, connection, command_name, **options)\u001b[0m\n\u001b[1;32m   1252\u001b[0m         response \u001b[38;5;241m=\u001b[39m connection\u001b[38;5;241m.\u001b[39mread_response(disable_decoding\u001b[38;5;241m=\u001b[39m\u001b[38;5;28;01mTrue\u001b[39;00m)\n\u001b[1;32m   1253\u001b[0m     \u001b[38;5;28;01melse\u001b[39;00m:\n\u001b[0;32m-> 1254\u001b[0m         response \u001b[38;5;241m=\u001b[39m \u001b[43mconnection\u001b[49m\u001b[38;5;241;43m.\u001b[39;49m\u001b[43mread_response\u001b[49m\u001b[43m(\u001b[49m\u001b[43m)\u001b[49m\n\u001b[1;32m   1255\u001b[0m \u001b[38;5;28;01mexcept\u001b[39;00m ResponseError:\n\u001b[1;32m   1256\u001b[0m     \u001b[38;5;28;01mif\u001b[39;00m EMPTY_RESPONSE \u001b[38;5;129;01min\u001b[39;00m options:\n",
      "File \u001b[0;32m/opt/saturncloud/envs/saturn/lib/python3.9/site-packages/redis/connection.py:839\u001b[0m, in \u001b[0;36mConnection.read_response\u001b[0;34m(self, disable_decoding)\u001b[0m\n\u001b[1;32m    836\u001b[0m     \u001b[38;5;28mself\u001b[39m\u001b[38;5;241m.\u001b[39mnext_health_check \u001b[38;5;241m=\u001b[39m time() \u001b[38;5;241m+\u001b[39m \u001b[38;5;28mself\u001b[39m\u001b[38;5;241m.\u001b[39mhealth_check_interval\n\u001b[1;32m    838\u001b[0m \u001b[38;5;28;01mif\u001b[39;00m \u001b[38;5;28misinstance\u001b[39m(response, ResponseError):\n\u001b[0;32m--> 839\u001b[0m     \u001b[38;5;28;01mraise\u001b[39;00m response\n\u001b[1;32m    840\u001b[0m \u001b[38;5;28;01mreturn\u001b[39;00m response\n",
      "\u001b[0;31mResponseError\u001b[0m: unknown command 'AI.TENSORGET'"
     ]
    }
   ],
   "source": [
    "# if arguments.gpu:\n",
    "#     device = 'gpu'\n",
    "# else:\n",
    "#     device = 'cpu'\n",
    "\n",
    "device = \"cpu\"\n",
    "\n",
    "pt_model_path = '../models/sent_bert_torchscript.pt'\n",
    "# script_path = '../models/pytorch/imagenet/data_processing_script.txt'\n",
    "# img_path = '../data/cat.jpg'\n",
    "\n",
    "# class_idx = json.load(open(\"../data/imagenet_classes.json\"))\n",
    "\n",
    "# image = io.imread(img_path)\n",
    "input_string = \"computer science\"\n",
    "# input_value = con.tensorset(\"input_string\", input_string, \"string\")\n",
    "pt_model = ml2rt.load_model(pt_model_path)\n",
    "# script = ml2rt.load_script(script_path)\n",
    "\n",
    "# out1 = con.modelset('sent-embed-model', 'torch', device, pt_model)\n",
    "out1 = con.execute_command('AI.TENSORGET', 'input_string', 'STRING', 1, 1, 'VALUES', input_string)\n",
    "\n",
    "# out2 = con.scriptset('imagenet_script', device, script)\n",
    "start_time = time.time()\n",
    "# out3 = con.tensorset('image', image)\n",
    "# out4 = con.scriptrun('imagenet_script', 'pre_process_3ch', 'image', 'temp1')\n",
    "out5 = con.modelrun('sent-embed-model', ['input_string'], ['out'])\n",
    "# out6 = con.scriptrun('imagenet_script', 'post_process', 'temp2', 'out')\n",
    "final = con.tensorget('out')\n",
    "# ind = final[0]\n",
    "# print(ind, class_idx[str(ind)])\n",
    "print(time.time() - start_time)"
   ]
  },
  {
   "cell_type": "code",
   "execution_count": 2,
   "id": "9047c38c-939a-4795-8457-11377613387b",
   "metadata": {
    "execution": {
     "iopub.execute_input": "2022-11-07T12:12:59.216771Z",
     "iopub.status.busy": "2022-11-07T12:12:59.216384Z",
     "iopub.status.idle": "2022-11-07T12:12:59.225747Z",
     "shell.execute_reply": "2022-11-07T12:12:59.225017Z",
     "shell.execute_reply.started": "2022-11-07T12:12:59.216747Z"
    },
    "tags": []
   },
   "outputs": [
    {
     "data": {
      "text/plain": [
       "'1.0.0'"
      ]
     },
     "execution_count": 2,
     "metadata": {},
     "output_type": "execute_result"
    }
   ],
   "source": [
    "rai.__version__"
   ]
  },
  {
   "cell_type": "code",
   "execution_count": 6,
   "id": "71e7e0cf-a7ca-4d99-839f-3b5b4e2488ed",
   "metadata": {
    "execution": {
     "iopub.execute_input": "2022-11-07T12:25:54.149769Z",
     "iopub.status.busy": "2022-11-07T12:25:54.149393Z",
     "iopub.status.idle": "2022-11-07T12:25:54.162630Z",
     "shell.execute_reply": "2022-11-07T12:25:54.161942Z",
     "shell.execute_reply.started": "2022-11-07T12:25:54.149745Z"
    }
   },
   "outputs": [
    {
     "ename": "AttributeError",
     "evalue": "module 'redisai' has no attribute 'DType'",
     "output_type": "error",
     "traceback": [
      "\u001b[0;31m---------------------------------------------------------------------------\u001b[0m",
      "\u001b[0;31mAttributeError\u001b[0m                            Traceback (most recent call last)",
      "Cell \u001b[0;32mIn [6], line 1\u001b[0m\n\u001b[0;32m----> 1\u001b[0m rai\u001b[38;5;241m.\u001b[39mDType\n",
      "\u001b[0;31mAttributeError\u001b[0m: module 'redisai' has no attribute 'DType'"
     ]
    }
   ],
   "source": [
    "rai.DType"
   ]
  },
  {
   "cell_type": "code",
   "execution_count": 8,
   "id": "1fed3d3a-5474-42d9-9b79-77326eeb3f47",
   "metadata": {
    "execution": {
     "iopub.execute_input": "2022-11-07T00:51:50.096375Z",
     "iopub.status.busy": "2022-11-07T00:51:50.095999Z",
     "iopub.status.idle": "2022-11-07T00:51:52.365498Z",
     "shell.execute_reply": "2022-11-07T00:51:52.364803Z",
     "shell.execute_reply.started": "2022-11-07T00:51:50.096350Z"
    },
    "tags": []
   },
   "outputs": [],
   "source": [
    "pt_model = ml2rt.load_model(pt_model_path)\n"
   ]
  },
  {
   "cell_type": "code",
   "execution_count": 5,
   "id": "a74a5ab6-83ff-431c-82be-e89f3904d3bc",
   "metadata": {
    "execution": {
     "iopub.execute_input": "2022-11-07T00:57:33.835250Z",
     "iopub.status.busy": "2022-11-07T00:57:33.834888Z",
     "iopub.status.idle": "2022-11-07T00:57:34.236718Z",
     "shell.execute_reply": "2022-11-07T00:57:34.236091Z",
     "shell.execute_reply.started": "2022-11-07T00:57:33.835228Z"
    },
    "tags": []
   },
   "outputs": [],
   "source": [
    "jit_pt_model = jit.load(pt_model_path)"
   ]
  },
  {
   "cell_type": "code",
   "execution_count": 26,
   "id": "d67fb0dc-7e39-44c6-a7da-3ebae871342a",
   "metadata": {
    "execution": {
     "iopub.execute_input": "2022-11-07T01:35:48.204232Z",
     "iopub.status.busy": "2022-11-07T01:35:48.203842Z",
     "iopub.status.idle": "2022-11-07T01:35:48.227366Z",
     "shell.execute_reply": "2022-11-07T01:35:48.226685Z",
     "shell.execute_reply.started": "2022-11-07T01:35:48.204210Z"
    },
    "tags": []
   },
   "outputs": [
    {
     "ename": "RuntimeError",
     "evalue": "forward() expected at most 2 argument(s) but received 3 argument(s). Declaration: forward(__torch__.sentence_transformers.SentenceTransformer.___torch_mangle_419.SentenceTransformer self, Dict(str, Tensor) input) -> Dict(str, Tensor)",
     "output_type": "error",
     "traceback": [
      "\u001b[0;31m---------------------------------------------------------------------------\u001b[0m",
      "\u001b[0;31mRuntimeError\u001b[0m                              Traceback (most recent call last)",
      "Cell \u001b[0;32mIn [26], line 5\u001b[0m\n\u001b[1;32m      1\u001b[0m \u001b[38;5;28;01mimport\u001b[39;00m \u001b[38;5;21;01mnumpy\u001b[39;00m \u001b[38;5;28;01mas\u001b[39;00m \u001b[38;5;21;01mnp\u001b[39;00m\n\u001b[1;32m      3\u001b[0m \u001b[38;5;66;03m# jit_pt_model(torch.arange(764))\u001b[39;00m\n\u001b[0;32m----> 5\u001b[0m jit_pt_model(\u001b[38;5;124m\"\u001b[39m\u001b[38;5;124mphysics paper\u001b[39m\u001b[38;5;124m\"\u001b[39m, torch\u001b[38;5;241m.\u001b[39mones(\u001b[38;5;241m2\u001b[39m))\n",
      "File \u001b[0;32m/opt/saturncloud/envs/saturn/lib/python3.9/site-packages/torch/nn/modules/module.py:1190\u001b[0m, in \u001b[0;36mModule._call_impl\u001b[0;34m(self, *input, **kwargs)\u001b[0m\n\u001b[1;32m   1186\u001b[0m \u001b[38;5;66;03m# If we don't have any hooks, we want to skip the rest of the logic in\u001b[39;00m\n\u001b[1;32m   1187\u001b[0m \u001b[38;5;66;03m# this function, and just call forward.\u001b[39;00m\n\u001b[1;32m   1188\u001b[0m \u001b[38;5;28;01mif\u001b[39;00m \u001b[38;5;129;01mnot\u001b[39;00m (\u001b[38;5;28mself\u001b[39m\u001b[38;5;241m.\u001b[39m_backward_hooks \u001b[38;5;129;01mor\u001b[39;00m \u001b[38;5;28mself\u001b[39m\u001b[38;5;241m.\u001b[39m_forward_hooks \u001b[38;5;129;01mor\u001b[39;00m \u001b[38;5;28mself\u001b[39m\u001b[38;5;241m.\u001b[39m_forward_pre_hooks \u001b[38;5;129;01mor\u001b[39;00m _global_backward_hooks\n\u001b[1;32m   1189\u001b[0m         \u001b[38;5;129;01mor\u001b[39;00m _global_forward_hooks \u001b[38;5;129;01mor\u001b[39;00m _global_forward_pre_hooks):\n\u001b[0;32m-> 1190\u001b[0m     \u001b[38;5;28;01mreturn\u001b[39;00m \u001b[43mforward_call\u001b[49m\u001b[43m(\u001b[49m\u001b[38;5;241;43m*\u001b[39;49m\u001b[38;5;28;43minput\u001b[39;49m\u001b[43m,\u001b[49m\u001b[43m \u001b[49m\u001b[38;5;241;43m*\u001b[39;49m\u001b[38;5;241;43m*\u001b[39;49m\u001b[43mkwargs\u001b[49m\u001b[43m)\u001b[49m\n\u001b[1;32m   1191\u001b[0m \u001b[38;5;66;03m# Do not call functions when jit is used\u001b[39;00m\n\u001b[1;32m   1192\u001b[0m full_backward_hooks, non_full_backward_hooks \u001b[38;5;241m=\u001b[39m [], []\n",
      "\u001b[0;31mRuntimeError\u001b[0m: forward() expected at most 2 argument(s) but received 3 argument(s). Declaration: forward(__torch__.sentence_transformers.SentenceTransformer.___torch_mangle_419.SentenceTransformer self, Dict(str, Tensor) input) -> Dict(str, Tensor)"
     ]
    }
   ],
   "source": [
    "import numpy as np\n",
    "\n",
    "# jit_pt_model(torch.arange(764))\n",
    "\n",
    "jit_pt_model(\"physics paper\", torch.ones(2))"
   ]
  },
  {
   "cell_type": "code",
   "execution_count": null,
   "id": "88ef4865-2461-4595-b023-4fc7c2413830",
   "metadata": {},
   "outputs": [],
   "source": []
  }
 ],
 "metadata": {
  "kernelspec": {
   "display_name": "saturn (Python 3)",
   "language": "python",
   "name": "python3"
  },
  "language_info": {
   "codemirror_mode": {
    "name": "ipython",
    "version": 3
   },
   "file_extension": ".py",
   "mimetype": "text/x-python",
   "name": "python",
   "nbconvert_exporter": "python",
   "pygments_lexer": "ipython3",
   "version": "3.9.13"
  }
 },
 "nbformat": 4,
 "nbformat_minor": 5
}
