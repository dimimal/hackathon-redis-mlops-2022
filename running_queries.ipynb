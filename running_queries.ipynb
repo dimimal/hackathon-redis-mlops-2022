{
 "cells": [
  {
   "cell_type": "markdown",
   "id": "ce121362-fab7-4059-be3d-d8ad5d579d7e",
   "metadata": {},
   "source": [
    "## Running Queries\n",
    "\n",
    "Here we load a random paper, search for nearest neighbors with RediSearch, and compare the title/abstract of the two papers."
   ]
  },
  {
   "cell_type": "code",
   "execution_count": 1,
   "id": "846d297c-480b-40b4-a8e9-e8820869201f",
   "metadata": {
    "execution": {
     "iopub.execute_input": "2022-10-29T19:40:54.276731Z",
     "iopub.status.busy": "2022-10-29T19:40:54.276335Z",
     "iopub.status.idle": "2022-10-29T19:40:54.368062Z",
     "shell.execute_reply": "2022-10-29T19:40:54.367239Z",
     "shell.execute_reply.started": "2022-10-29T19:40:54.276667Z"
    }
   },
   "outputs": [],
   "source": [
    "import numpy as np\n",
    "\n",
    "from redis.asyncio import Redis\n",
    "from utils.search_index import SearchIndex\n",
    "from time import time"
   ]
  },
  {
   "cell_type": "code",
   "execution_count": 2,
   "id": "544133bb-159b-4c53-a02f-4e01358f1b07",
   "metadata": {
    "execution": {
     "iopub.execute_input": "2022-10-29T19:40:54.455697Z",
     "iopub.status.busy": "2022-10-29T19:40:54.455363Z",
     "iopub.status.idle": "2022-10-29T19:40:54.458854Z",
     "shell.execute_reply": "2022-10-29T19:40:54.458365Z",
     "shell.execute_reply.started": "2022-10-29T19:40:54.455676Z"
    }
   },
   "outputs": [],
   "source": [
    "redis_conn = await Redis(host='redis', port='6379')\n",
    "search_index = SearchIndex('papers', redis_conn)"
   ]
  },
  {
   "cell_type": "code",
   "execution_count": 3,
   "id": "f48b1a73-d7b7-4aeb-b1bc-eef6cf1fdd79",
   "metadata": {
    "execution": {
     "iopub.execute_input": "2022-10-29T19:40:55.728092Z",
     "iopub.status.busy": "2022-10-29T19:40:55.727793Z",
     "iopub.status.idle": "2022-10-29T19:40:55.731137Z",
     "shell.execute_reply": "2022-10-29T19:40:55.730614Z",
     "shell.execute_reply.started": "2022-10-29T19:40:55.728071Z"
    }
   },
   "outputs": [],
   "source": [
    "# Fetch one random paper from Redis to test\n",
    "async def fetch_one(redis_conn):\n",
    "    async for key in redis_conn.scan_iter(\"paper:*\"):\n",
    "        return await redis_conn.hgetall(key)"
   ]
  },
  {
   "cell_type": "code",
   "execution_count": 4,
   "id": "e27a3e96-f9e8-4a64-879b-83c0e7ec1abe",
   "metadata": {
    "execution": {
     "iopub.execute_input": "2022-10-29T19:40:56.601237Z",
     "iopub.status.busy": "2022-10-29T19:40:56.600872Z",
     "iopub.status.idle": "2022-10-29T19:40:58.479840Z",
     "shell.execute_reply": "2022-10-29T19:40:58.478878Z",
     "shell.execute_reply.started": "2022-10-29T19:40:56.601212Z"
    }
   },
   "outputs": [
    {
     "ename": "ConnectionError",
     "evalue": "Error -2 connecting to redis:6379. -2.",
     "output_type": "error",
     "traceback": [
      "\u001b[0;31m---------------------------------------------------------------------------\u001b[0m",
      "\u001b[0;31mgaierror\u001b[0m                                  Traceback (most recent call last)",
      "File \u001b[0;32m/opt/saturncloud/envs/saturn/lib/python3.9/site-packages/redis/asyncio/connection.py:709\u001b[0m, in \u001b[0;36mConnection.connect\u001b[0;34m(self)\u001b[0m\n\u001b[1;32m    708\u001b[0m \u001b[38;5;28;01mtry\u001b[39;00m:\n\u001b[0;32m--> 709\u001b[0m     \u001b[38;5;28;01mawait\u001b[39;00m \u001b[38;5;28mself\u001b[39m\u001b[38;5;241m.\u001b[39m_connect()\n\u001b[1;32m    710\u001b[0m \u001b[38;5;28;01mexcept\u001b[39;00m asyncio\u001b[38;5;241m.\u001b[39mCancelledError:\n",
      "File \u001b[0;32m/opt/saturncloud/envs/saturn/lib/python3.9/site-packages/redis/asyncio/connection.py:744\u001b[0m, in \u001b[0;36mConnection._connect\u001b[0;34m(self)\u001b[0m\n\u001b[1;32m    743\u001b[0m \u001b[38;5;28;01masync\u001b[39;00m \u001b[38;5;28;01mwith\u001b[39;00m async_timeout\u001b[38;5;241m.\u001b[39mtimeout(\u001b[38;5;28mself\u001b[39m\u001b[38;5;241m.\u001b[39msocket_connect_timeout):\n\u001b[0;32m--> 744\u001b[0m     reader, writer \u001b[38;5;241m=\u001b[39m \u001b[38;5;28;01mawait\u001b[39;00m asyncio\u001b[38;5;241m.\u001b[39mopen_connection(\n\u001b[1;32m    745\u001b[0m         host\u001b[38;5;241m=\u001b[39m\u001b[38;5;28mself\u001b[39m\u001b[38;5;241m.\u001b[39mhost,\n\u001b[1;32m    746\u001b[0m         port\u001b[38;5;241m=\u001b[39m\u001b[38;5;28mself\u001b[39m\u001b[38;5;241m.\u001b[39mport,\n\u001b[1;32m    747\u001b[0m         ssl\u001b[38;5;241m=\u001b[39m\u001b[38;5;28mself\u001b[39m\u001b[38;5;241m.\u001b[39mssl_context\u001b[38;5;241m.\u001b[39mget() \u001b[38;5;28;01mif\u001b[39;00m \u001b[38;5;28mself\u001b[39m\u001b[38;5;241m.\u001b[39mssl_context \u001b[38;5;28;01melse\u001b[39;00m \u001b[38;5;28;01mNone\u001b[39;00m,\n\u001b[1;32m    748\u001b[0m     )\n\u001b[1;32m    749\u001b[0m \u001b[38;5;28mself\u001b[39m\u001b[38;5;241m.\u001b[39m_reader \u001b[38;5;241m=\u001b[39m reader\n",
      "File \u001b[0;32m/opt/saturncloud/envs/saturn/lib/python3.9/asyncio/streams.py:52\u001b[0m, in \u001b[0;36mopen_connection\u001b[0;34m(host, port, loop, limit, **kwds)\u001b[0m\n\u001b[1;32m     51\u001b[0m protocol \u001b[38;5;241m=\u001b[39m StreamReaderProtocol(reader, loop\u001b[38;5;241m=\u001b[39mloop)\n\u001b[0;32m---> 52\u001b[0m transport, _ \u001b[38;5;241m=\u001b[39m \u001b[38;5;28;01mawait\u001b[39;00m loop\u001b[38;5;241m.\u001b[39mcreate_connection(\n\u001b[1;32m     53\u001b[0m     \u001b[38;5;28;01mlambda\u001b[39;00m: protocol, host, port, \u001b[38;5;241m*\u001b[39m\u001b[38;5;241m*\u001b[39mkwds)\n\u001b[1;32m     54\u001b[0m writer \u001b[38;5;241m=\u001b[39m StreamWriter(transport, protocol, reader, loop)\n",
      "File \u001b[0;32m/opt/saturncloud/envs/saturn/lib/python3.9/asyncio/base_events.py:1026\u001b[0m, in \u001b[0;36mBaseEventLoop.create_connection\u001b[0;34m(self, protocol_factory, host, port, ssl, family, proto, flags, sock, local_addr, server_hostname, ssl_handshake_timeout, happy_eyeballs_delay, interleave)\u001b[0m\n\u001b[1;32m   1023\u001b[0m     \u001b[38;5;28;01mraise\u001b[39;00m \u001b[38;5;167;01mValueError\u001b[39;00m(\n\u001b[1;32m   1024\u001b[0m         \u001b[38;5;124m'\u001b[39m\u001b[38;5;124mhost/port and sock can not be specified at the same time\u001b[39m\u001b[38;5;124m'\u001b[39m)\n\u001b[0;32m-> 1026\u001b[0m infos \u001b[38;5;241m=\u001b[39m \u001b[38;5;28;01mawait\u001b[39;00m \u001b[38;5;28mself\u001b[39m\u001b[38;5;241m.\u001b[39m_ensure_resolved(\n\u001b[1;32m   1027\u001b[0m     (host, port), family\u001b[38;5;241m=\u001b[39mfamily,\n\u001b[1;32m   1028\u001b[0m     \u001b[38;5;28mtype\u001b[39m\u001b[38;5;241m=\u001b[39msocket\u001b[38;5;241m.\u001b[39mSOCK_STREAM, proto\u001b[38;5;241m=\u001b[39mproto, flags\u001b[38;5;241m=\u001b[39mflags, loop\u001b[38;5;241m=\u001b[39m\u001b[38;5;28mself\u001b[39m)\n\u001b[1;32m   1029\u001b[0m \u001b[38;5;28;01mif\u001b[39;00m \u001b[38;5;129;01mnot\u001b[39;00m infos:\n",
      "File \u001b[0;32m/opt/saturncloud/envs/saturn/lib/python3.9/asyncio/base_events.py:1405\u001b[0m, in \u001b[0;36mBaseEventLoop._ensure_resolved\u001b[0;34m(self, address, family, type, proto, flags, loop)\u001b[0m\n\u001b[1;32m   1404\u001b[0m \u001b[38;5;28;01melse\u001b[39;00m:\n\u001b[0;32m-> 1405\u001b[0m     \u001b[38;5;28;01mreturn\u001b[39;00m \u001b[38;5;28;01mawait\u001b[39;00m loop\u001b[38;5;241m.\u001b[39mgetaddrinfo(host, port, family\u001b[38;5;241m=\u001b[39mfamily, \u001b[38;5;28mtype\u001b[39m\u001b[38;5;241m=\u001b[39m\u001b[38;5;28mtype\u001b[39m,\n\u001b[1;32m   1406\u001b[0m                                   proto\u001b[38;5;241m=\u001b[39mproto, flags\u001b[38;5;241m=\u001b[39mflags)\n",
      "File \u001b[0;32m/opt/saturncloud/envs/saturn/lib/python3.9/asyncio/base_events.py:861\u001b[0m, in \u001b[0;36mBaseEventLoop.getaddrinfo\u001b[0;34m(self, host, port, family, type, proto, flags)\u001b[0m\n\u001b[1;32m    859\u001b[0m     getaddr_func \u001b[38;5;241m=\u001b[39m socket\u001b[38;5;241m.\u001b[39mgetaddrinfo\n\u001b[0;32m--> 861\u001b[0m \u001b[38;5;28;01mreturn\u001b[39;00m \u001b[38;5;28;01mawait\u001b[39;00m \u001b[38;5;28mself\u001b[39m\u001b[38;5;241m.\u001b[39mrun_in_executor(\n\u001b[1;32m    862\u001b[0m     \u001b[38;5;28;01mNone\u001b[39;00m, getaddr_func, host, port, family, \u001b[38;5;28mtype\u001b[39m, proto, flags)\n",
      "File \u001b[0;32m/opt/saturncloud/envs/saturn/lib/python3.9/concurrent/futures/thread.py:58\u001b[0m, in \u001b[0;36m_WorkItem.run\u001b[0;34m(self)\u001b[0m\n\u001b[1;32m     57\u001b[0m \u001b[38;5;28;01mtry\u001b[39;00m:\n\u001b[0;32m---> 58\u001b[0m     result \u001b[38;5;241m=\u001b[39m \u001b[38;5;28;43mself\u001b[39;49m\u001b[38;5;241;43m.\u001b[39;49m\u001b[43mfn\u001b[49m\u001b[43m(\u001b[49m\u001b[38;5;241;43m*\u001b[39;49m\u001b[38;5;28;43mself\u001b[39;49m\u001b[38;5;241;43m.\u001b[39;49m\u001b[43margs\u001b[49m\u001b[43m,\u001b[49m\u001b[43m \u001b[49m\u001b[38;5;241;43m*\u001b[39;49m\u001b[38;5;241;43m*\u001b[39;49m\u001b[38;5;28;43mself\u001b[39;49m\u001b[38;5;241;43m.\u001b[39;49m\u001b[43mkwargs\u001b[49m\u001b[43m)\u001b[49m\n\u001b[1;32m     59\u001b[0m \u001b[38;5;28;01mexcept\u001b[39;00m \u001b[38;5;167;01mBaseException\u001b[39;00m \u001b[38;5;28;01mas\u001b[39;00m exc:\n",
      "File \u001b[0;32m/opt/saturncloud/envs/saturn/lib/python3.9/socket.py:954\u001b[0m, in \u001b[0;36mgetaddrinfo\u001b[0;34m(host, port, family, type, proto, flags)\u001b[0m\n\u001b[1;32m    953\u001b[0m addrlist \u001b[38;5;241m=\u001b[39m []\n\u001b[0;32m--> 954\u001b[0m \u001b[38;5;28;01mfor\u001b[39;00m res \u001b[38;5;129;01min\u001b[39;00m \u001b[43m_socket\u001b[49m\u001b[38;5;241;43m.\u001b[39;49m\u001b[43mgetaddrinfo\u001b[49m\u001b[43m(\u001b[49m\u001b[43mhost\u001b[49m\u001b[43m,\u001b[49m\u001b[43m \u001b[49m\u001b[43mport\u001b[49m\u001b[43m,\u001b[49m\u001b[43m \u001b[49m\u001b[43mfamily\u001b[49m\u001b[43m,\u001b[49m\u001b[43m \u001b[49m\u001b[38;5;28;43mtype\u001b[39;49m\u001b[43m,\u001b[49m\u001b[43m \u001b[49m\u001b[43mproto\u001b[49m\u001b[43m,\u001b[49m\u001b[43m \u001b[49m\u001b[43mflags\u001b[49m\u001b[43m)\u001b[49m:\n\u001b[1;32m    955\u001b[0m     af, socktype, proto, canonname, sa \u001b[38;5;241m=\u001b[39m res\n",
      "\u001b[0;31mgaierror\u001b[0m: [Errno -2] Name or service not known",
      "\nDuring handling of the above exception, another exception occurred:\n",
      "\u001b[0;31mConnectionError\u001b[0m                           Traceback (most recent call last)",
      "Cell \u001b[0;32mIn [4], line 1\u001b[0m\n\u001b[0;32m----> 1\u001b[0m paper \u001b[38;5;241m=\u001b[39m \u001b[38;5;28;01mawait\u001b[39;00m fetch_one(redis_conn)\n",
      "Cell \u001b[0;32mIn [3], line 3\u001b[0m, in \u001b[0;36mfetch_one\u001b[0;34m(redis_conn)\u001b[0m\n\u001b[1;32m      2\u001b[0m \u001b[38;5;28;01masync\u001b[39;00m \u001b[38;5;28;01mdef\u001b[39;00m \u001b[38;5;21mfetch_one\u001b[39m(redis_conn):\n\u001b[0;32m----> 3\u001b[0m     \u001b[38;5;28;01masync\u001b[39;00m \u001b[38;5;28;01mfor\u001b[39;00m key \u001b[38;5;129;01min\u001b[39;00m redis_conn\u001b[38;5;241m.\u001b[39mscan_iter(\u001b[38;5;124m\"\u001b[39m\u001b[38;5;124mpaper:*\u001b[39m\u001b[38;5;124m\"\u001b[39m):\n\u001b[1;32m      4\u001b[0m         \u001b[38;5;28;01mreturn\u001b[39;00m \u001b[38;5;28;01mawait\u001b[39;00m redis_conn\u001b[38;5;241m.\u001b[39mhgetall(key)\n",
      "File \u001b[0;32m/opt/saturncloud/envs/saturn/lib/python3.9/site-packages/redis/commands/core.py:3093\u001b[0m, in \u001b[0;36mAsyncScanCommands.scan_iter\u001b[0;34m(self, match, count, _type, **kwargs)\u001b[0m\n\u001b[1;32m   3091\u001b[0m cursor \u001b[38;5;241m=\u001b[39m \u001b[38;5;124m\"\u001b[39m\u001b[38;5;124m0\u001b[39m\u001b[38;5;124m\"\u001b[39m\n\u001b[1;32m   3092\u001b[0m \u001b[38;5;28;01mwhile\u001b[39;00m cursor \u001b[38;5;241m!=\u001b[39m \u001b[38;5;241m0\u001b[39m:\n\u001b[0;32m-> 3093\u001b[0m     cursor, data \u001b[38;5;241m=\u001b[39m \u001b[38;5;28;01mawait\u001b[39;00m \u001b[38;5;28mself\u001b[39m\u001b[38;5;241m.\u001b[39mscan(\n\u001b[1;32m   3094\u001b[0m         cursor\u001b[38;5;241m=\u001b[39mcursor, match\u001b[38;5;241m=\u001b[39mmatch, count\u001b[38;5;241m=\u001b[39mcount, _type\u001b[38;5;241m=\u001b[39m_type, \u001b[38;5;241m*\u001b[39m\u001b[38;5;241m*\u001b[39mkwargs\n\u001b[1;32m   3095\u001b[0m     )\n\u001b[1;32m   3096\u001b[0m     \u001b[38;5;28;01mfor\u001b[39;00m d \u001b[38;5;129;01min\u001b[39;00m data:\n\u001b[1;32m   3097\u001b[0m         \u001b[38;5;28;01myield\u001b[39;00m d\n",
      "File \u001b[0;32m/opt/saturncloud/envs/saturn/lib/python3.9/site-packages/redis/asyncio/client.py:484\u001b[0m, in \u001b[0;36mRedis.execute_command\u001b[0;34m(self, *args, **options)\u001b[0m\n\u001b[1;32m    482\u001b[0m pool \u001b[38;5;241m=\u001b[39m \u001b[38;5;28mself\u001b[39m\u001b[38;5;241m.\u001b[39mconnection_pool\n\u001b[1;32m    483\u001b[0m command_name \u001b[38;5;241m=\u001b[39m args[\u001b[38;5;241m0\u001b[39m]\n\u001b[0;32m--> 484\u001b[0m conn \u001b[38;5;241m=\u001b[39m \u001b[38;5;28mself\u001b[39m\u001b[38;5;241m.\u001b[39mconnection \u001b[38;5;129;01mor\u001b[39;00m \u001b[38;5;28;01mawait\u001b[39;00m pool\u001b[38;5;241m.\u001b[39mget_connection(command_name, \u001b[38;5;241m*\u001b[39m\u001b[38;5;241m*\u001b[39moptions)\n\u001b[1;32m    486\u001b[0m \u001b[38;5;28;01mtry\u001b[39;00m:\n\u001b[1;32m    487\u001b[0m     \u001b[38;5;28;01mreturn\u001b[39;00m \u001b[38;5;28;01mawait\u001b[39;00m conn\u001b[38;5;241m.\u001b[39mretry\u001b[38;5;241m.\u001b[39mcall_with_retry(\n\u001b[1;32m    488\u001b[0m         \u001b[38;5;28;01mlambda\u001b[39;00m: \u001b[38;5;28mself\u001b[39m\u001b[38;5;241m.\u001b[39m_send_command_parse_response(\n\u001b[1;32m    489\u001b[0m             conn, command_name, \u001b[38;5;241m*\u001b[39margs, \u001b[38;5;241m*\u001b[39m\u001b[38;5;241m*\u001b[39moptions\n\u001b[1;32m    490\u001b[0m         ),\n\u001b[1;32m    491\u001b[0m         \u001b[38;5;28;01mlambda\u001b[39;00m error: \u001b[38;5;28mself\u001b[39m\u001b[38;5;241m.\u001b[39m_disconnect_raise(conn, error),\n\u001b[1;32m    492\u001b[0m     )\n",
      "File \u001b[0;32m/opt/saturncloud/envs/saturn/lib/python3.9/site-packages/redis/asyncio/connection.py:1516\u001b[0m, in \u001b[0;36mConnectionPool.get_connection\u001b[0;34m(self, command_name, *keys, **options)\u001b[0m\n\u001b[1;32m   1512\u001b[0m     \u001b[38;5;28mself\u001b[39m\u001b[38;5;241m.\u001b[39m_in_use_connections\u001b[38;5;241m.\u001b[39madd(connection)\n\u001b[1;32m   1514\u001b[0m \u001b[38;5;28;01mtry\u001b[39;00m:\n\u001b[1;32m   1515\u001b[0m     \u001b[38;5;66;03m# ensure this connection is connected to Redis\u001b[39;00m\n\u001b[0;32m-> 1516\u001b[0m     \u001b[38;5;28;01mawait\u001b[39;00m connection\u001b[38;5;241m.\u001b[39mconnect()\n\u001b[1;32m   1517\u001b[0m     \u001b[38;5;66;03m# connections that the pool provides should be ready to send\u001b[39;00m\n\u001b[1;32m   1518\u001b[0m     \u001b[38;5;66;03m# a command. if not, the connection was either returned to the\u001b[39;00m\n\u001b[1;32m   1519\u001b[0m     \u001b[38;5;66;03m# pool before all data has been read or the socket has been\u001b[39;00m\n\u001b[1;32m   1520\u001b[0m     \u001b[38;5;66;03m# closed. either way, reconnect and verify everything is good.\u001b[39;00m\n\u001b[1;32m   1521\u001b[0m     \u001b[38;5;28;01mtry\u001b[39;00m:\n",
      "File \u001b[0;32m/opt/saturncloud/envs/saturn/lib/python3.9/site-packages/redis/asyncio/connection.py:715\u001b[0m, in \u001b[0;36mConnection.connect\u001b[0;34m(self)\u001b[0m\n\u001b[1;32m    713\u001b[0m     \u001b[38;5;28;01mraise\u001b[39;00m \u001b[38;5;167;01mTimeoutError\u001b[39;00m(\u001b[38;5;124m\"\u001b[39m\u001b[38;5;124mTimeout connecting to server\u001b[39m\u001b[38;5;124m\"\u001b[39m)\n\u001b[1;32m    714\u001b[0m \u001b[38;5;28;01mexcept\u001b[39;00m \u001b[38;5;167;01mOSError\u001b[39;00m \u001b[38;5;28;01mas\u001b[39;00m e:\n\u001b[0;32m--> 715\u001b[0m     \u001b[38;5;28;01mraise\u001b[39;00m \u001b[38;5;167;01mConnectionError\u001b[39;00m(\u001b[38;5;28mself\u001b[39m\u001b[38;5;241m.\u001b[39m_error_message(e))\n\u001b[1;32m    716\u001b[0m \u001b[38;5;28;01mexcept\u001b[39;00m \u001b[38;5;167;01mException\u001b[39;00m \u001b[38;5;28;01mas\u001b[39;00m exc:\n\u001b[1;32m    717\u001b[0m     \u001b[38;5;28;01mraise\u001b[39;00m \u001b[38;5;167;01mConnectionError\u001b[39;00m(exc) \u001b[38;5;28;01mfrom\u001b[39;00m \u001b[38;5;21;01mexc\u001b[39;00m\n",
      "\u001b[0;31mConnectionError\u001b[0m: Error -2 connecting to redis:6379. -2."
     ]
    }
   ],
   "source": [
    "paper = await fetch_one(redis_conn)"
   ]
  },
  {
   "cell_type": "code",
   "execution_count": null,
   "id": "fe7b829c-1aa1-4adb-9824-403dc5dda663",
   "metadata": {
    "execution": {
     "iopub.status.busy": "2022-10-29T19:40:58.480611Z",
     "iopub.status.idle": "2022-10-29T19:40:58.480862Z",
     "shell.execute_reply": "2022-10-29T19:40:58.480747Z",
     "shell.execute_reply.started": "2022-10-29T19:40:58.480734Z"
    }
   },
   "outputs": [],
   "source": [
    "paper[b'id']"
   ]
  },
  {
   "cell_type": "code",
   "execution_count": null,
   "id": "3d65f249-0ddd-4219-bef3-887858b9de81",
   "metadata": {
    "tags": []
   },
   "outputs": [],
   "source": [
    "# Vector created in the last step!\n",
    "np.frombuffer(paper[b'vector'])"
   ]
  },
  {
   "cell_type": "code",
   "execution_count": null,
   "id": "63b2bf2b-bb18-4e76-9b88-4cf863bb07bc",
   "metadata": {},
   "outputs": [],
   "source": [
    "# Construct search\n",
    "async def search(redis_conn, search_index, k: int, paper_key: str):\n",
    "    query = search_index.vector_query(\n",
    "            categories = [],\n",
    "            years = [],\n",
    "            number_of_results = k\n",
    "    )\n",
    "    print(\"searching for nearest neighbors to\", paper_key)\n",
    "    start = time()\n",
    "    vector = await redis_conn.hget(paper_key, \"vector\")\n",
    "    result = await redis_conn.ft(search_index.index_name).search(\n",
    "        query,\n",
    "        query_params={\"vec_param\": vector}\n",
    "    )\n",
    "    print(\"done in\", time()-start, \"seconds\")\n",
    "    return result"
   ]
  },
  {
   "cell_type": "code",
   "execution_count": null,
   "id": "158ea1a0-509b-4cee-a52a-65855fe57f98",
   "metadata": {},
   "outputs": [],
   "source": [
    "paper_key = \"paper:\" + paper[b\"id\"].decode('utf-8')\n",
    "result = await search(redis_conn, search_index, 5, paper_key)"
   ]
  },
  {
   "cell_type": "code",
   "execution_count": null,
   "id": "3ada00fd-661d-428e-9192-c099937522d6",
   "metadata": {},
   "outputs": [],
   "source": [
    "result"
   ]
  },
  {
   "cell_type": "code",
   "execution_count": null,
   "id": "1bacfc0a-0827-4dfa-a8f0-4c8f2347293a",
   "metadata": {},
   "outputs": [],
   "source": [
    "result.docs[1]"
   ]
  },
  {
   "cell_type": "code",
   "execution_count": null,
   "id": "9c62a59a-6ccc-40c9-8f84-6a64726e06bc",
   "metadata": {},
   "outputs": [],
   "source": [
    "# Input document\n",
    "await redis_conn.hmget(paper_key, \"title\", \"abstract\")"
   ]
  },
  {
   "cell_type": "code",
   "execution_count": null,
   "id": "861efeba-16ac-4a42-b62a-da54cb9e69d7",
   "metadata": {},
   "outputs": [],
   "source": [
    "# Nearest neighbor result\n",
    "await redis_conn.hmget(result.docs[1].id, \"title\", \"abstract\")"
   ]
  }
 ],
 "metadata": {
  "kernelspec": {
   "display_name": "saturn (Python 3)",
   "language": "python",
   "name": "python3"
  },
  "language_info": {
   "codemirror_mode": {
    "name": "ipython",
    "version": 3
   },
   "file_extension": ".py",
   "mimetype": "text/x-python",
   "name": "python",
   "nbconvert_exporter": "python",
   "pygments_lexer": "ipython3",
   "version": "3.9.13"
  }
 },
 "nbformat": 4,
 "nbformat_minor": 5
}
