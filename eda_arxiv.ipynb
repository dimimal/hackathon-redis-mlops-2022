{
 "cells": [
  {
   "cell_type": "code",
   "execution_count": 2,
   "id": "ae70291a-1b5b-49d8-946d-3af8f5ba400f",
   "metadata": {
    "execution": {
     "iopub.execute_input": "2022-11-01T13:48:23.843595Z",
     "iopub.status.busy": "2022-11-01T13:48:23.843203Z",
     "iopub.status.idle": "2022-11-01T13:48:23.848032Z",
     "shell.execute_reply": "2022-11-01T13:48:23.847283Z",
     "shell.execute_reply.started": "2022-11-01T13:48:23.843569Z"
    },
    "tags": []
   },
   "outputs": [],
   "source": [
    "import json\n",
    "import pandas as pd\n",
    "import os\n",
    "import re\n",
    "import string\n",
    "from categories import cat_mapper\n",
    "# from gensim.models import KeyedVectors\n",
    "import dask.dataframe as dd\n",
    "\n",
    "# import spacy\n",
    "# from spacy.lang.en.stop_words import STOP_WORDS\n",
    "# import en_core_sci_lg\n",
    "\n",
    "pd.set_option('display.max_colwidth', None)\n",
    "\n",
    "DATA_PATH = \"/home/jovyan/arxiv/arxiv-metadata-oai-snapshot.json\"\n",
    "YEAR_CUTOFF = 2000\n",
    "YEAR_PATTERN = r\"(19|20[0-9]{2})\"\n",
    "ML_CATEGORY = \"cs.LG\""
   ]
  },
  {
   "cell_type": "code",
   "execution_count": null,
   "id": "0d497ead-aca5-441b-90da-767eef6be59f",
   "metadata": {},
   "outputs": [],
   "source": []
  },
  {
   "cell_type": "code",
   "execution_count": 12,
   "id": "a033e8bd-8273-423b-bf7f-bef62089f305",
   "metadata": {
    "execution": {
     "iopub.execute_input": "2022-10-30T23:55:48.901288Z",
     "iopub.status.busy": "2022-10-30T23:55:48.900889Z",
     "iopub.status.idle": "2022-10-30T23:55:48.907443Z",
     "shell.execute_reply": "2022-10-30T23:55:48.906900Z",
     "shell.execute_reply.started": "2022-10-30T23:55:48.901262Z"
    },
    "tags": []
   },
   "outputs": [],
   "source": [
    "# def show_error_year_journals(paper: dict):\n",
    "#     paper = json.loads(paper)\n",
    "#     if paper['journal-ref']:\n",
    "#         years = [int(year) for year in re.findall(YEAR_PATTERN, paper['journal-ref'])]\n",
    "#         if years > 2022:\n",
    "            \n",
    "\n",
    "def process(paper: dict):\n",
    "    paper = json.loads(paper)\n",
    "    if paper['journal-ref']:\n",
    "        years = [int(year) for year in re.findall(YEAR_PATTERN, paper['journal-ref'])]\n",
    "        years = [year for year in years if (year <= 2022 and year >= 1991)]\n",
    "        year = min(years) if years else None\n",
    "    else:\n",
    "        year = None\n",
    "    return {\n",
    "        'id': paper['id'],\n",
    "        'title': paper['title'],\n",
    "        'year': year,\n",
    "        'authors': paper['authors'],\n",
    "        'categories': ','.join(paper['categories'].split(' ')),\n",
    "        'abstract': paper['abstract']\n",
    "    }\n",
    "\n",
    "\n",
    "def papers():\n",
    "    with open(DATA_PATH, 'r') as f:\n",
    "        for paper in f:\n",
    "            paper = process(paper)\n",
    "            if paper['year']:\n",
    "                # if paper['year'] >= YEAR_CUTOFF and ML_CATEGORY in paper['categories']:\n",
    "                if paper['year'] >= YEAR_CUTOFF:\n",
    "                    yield paper\n",
    "\n",
    "def readpaper():\n",
    "    with open(DATA_PATH, 'r') as f:\n",
    "        for paper in f:\n",
    "            yield process(paper)"
   ]
  },
  {
   "cell_type": "code",
   "execution_count": 13,
   "id": "78afa07d-ba29-4f39-be32-d8fcdcc99021",
   "metadata": {
    "execution": {
     "iopub.execute_input": "2022-10-30T23:55:50.240951Z",
     "iopub.status.busy": "2022-10-30T23:55:50.240569Z",
     "iopub.status.idle": "2022-10-30T23:56:20.953288Z",
     "shell.execute_reply": "2022-10-30T23:56:20.952727Z",
     "shell.execute_reply.started": "2022-10-30T23:55:50.240925Z"
    },
    "tags": []
   },
   "outputs": [
    {
     "data": {
      "text/plain": [
       "718632"
      ]
     },
     "execution_count": 13,
     "metadata": {},
     "output_type": "execute_result"
    }
   ],
   "source": [
    "df = pd.DataFrame(papers())\n",
    "len(df)"
   ]
  },
  {
   "cell_type": "code",
   "execution_count": 5,
   "id": "f9abfdcf-cf1b-4eb9-98f9-0e3cc7fd764e",
   "metadata": {
    "execution": {
     "iopub.execute_input": "2022-10-28T21:39:35.528106Z",
     "iopub.status.busy": "2022-10-28T21:39:35.527826Z",
     "iopub.status.idle": "2022-10-28T21:39:35.530864Z",
     "shell.execute_reply": "2022-10-28T21:39:35.530334Z",
     "shell.execute_reply.started": "2022-10-28T21:39:35.528086Z"
    },
    "tags": []
   },
   "outputs": [],
   "source": [
    "# df.head()"
   ]
  },
  {
   "cell_type": "code",
   "execution_count": null,
   "id": "574d9e19-7b87-4950-b9a8-ef8c851ab53e",
   "metadata": {
    "execution": {
     "iopub.status.busy": "2022-10-28T21:38:59.402182Z",
     "iopub.status.idle": "2022-10-28T21:38:59.402451Z",
     "shell.execute_reply": "2022-10-28T21:38:59.402314Z",
     "shell.execute_reply.started": "2022-10-28T21:38:59.402303Z"
    },
    "tags": []
   },
   "outputs": [],
   "source": [
    "df[df[\"year\"]>2022].head()"
   ]
  },
  {
   "cell_type": "code",
   "execution_count": null,
   "id": "1c4d1cb7-a4eb-4947-bd03-22e64579c47e",
   "metadata": {
    "tags": []
   },
   "outputs": [],
   "source": [
    "len(df.year.value_counts())"
   ]
  },
  {
   "cell_type": "code",
   "execution_count": null,
   "id": "b069b1f4-6744-4419-a26a-d953bf679acf",
   "metadata": {
    "tags": []
   },
   "outputs": [],
   "source": [
    "df[\"year\"].isnull().sum()"
   ]
  },
  {
   "cell_type": "code",
   "execution_count": null,
   "id": "d54bcd88-91f8-4c4d-8397-ad5b5a1614ca",
   "metadata": {
    "tags": []
   },
   "outputs": [],
   "source": [
    "df[df[\"year\"].isnull()].head()"
   ]
  },
  {
   "cell_type": "code",
   "execution_count": null,
   "id": "01206966-a936-4cb5-90dd-c060d7baf3c3",
   "metadata": {
    "tags": []
   },
   "outputs": [],
   "source": [
    "# df[(df[\"year\"]<2002)&(df[\"year\"]>19)][\"year\"].head(25)"
   ]
  },
  {
   "cell_type": "markdown",
   "id": "c645fd7d-f197-4c00-8ad1-fa6d0ac3d0cb",
   "metadata": {},
   "source": [
    "### Check the categories"
   ]
  },
  {
   "cell_type": "code",
   "execution_count": null,
   "id": "b2bd570d-65d0-4423-aef2-0c7badfb746f",
   "metadata": {
    "tags": []
   },
   "outputs": [],
   "source": [
    "df[\"categories\"].value_counts()"
   ]
  },
  {
   "cell_type": "code",
   "execution_count": 14,
   "id": "3bd57aab-71c6-4fcc-8e1c-a54c16c5e39b",
   "metadata": {
    "execution": {
     "iopub.execute_input": "2022-10-30T23:56:20.954608Z",
     "iopub.status.busy": "2022-10-30T23:56:20.954306Z",
     "iopub.status.idle": "2022-10-30T23:56:21.423203Z",
     "shell.execute_reply": "2022-10-30T23:56:21.422593Z",
     "shell.execute_reply.started": "2022-10-30T23:56:20.954587Z"
    },
    "tags": []
   },
   "outputs": [],
   "source": [
    "### Map the categories \n",
    "\n",
    "### Count commas and categories!  \n",
    "df[\"count_cats\"] = df.categories.str.count(',') + 1"
   ]
  },
  {
   "cell_type": "code",
   "execution_count": null,
   "id": "26432c46-ce7c-4dc0-8b84-f5f601894b4f",
   "metadata": {
    "tags": []
   },
   "outputs": [],
   "source": [
    "df.count_cats.value_counts()"
   ]
  },
  {
   "cell_type": "code",
   "execution_count": null,
   "id": "8582b0a2-3f81-44b7-82ed-a3034040bf2f",
   "metadata": {
    "tags": []
   },
   "outputs": [],
   "source": [
    "# df[df[\"count_cats\"] > 9][\"categories\"].head()"
   ]
  },
  {
   "cell_type": "code",
   "execution_count": null,
   "id": "5fc20e66-ce7f-4142-85b3-0449ecbb0110",
   "metadata": {
    "tags": []
   },
   "outputs": [],
   "source": [
    "### Compute the word embeddings by averaging the category embeddings "
   ]
  },
  {
   "cell_type": "code",
   "execution_count": 7,
   "id": "94cafe55-b238-4068-aa97-67caad2334d2",
   "metadata": {
    "execution": {
     "iopub.execute_input": "2022-10-29T18:20:41.315852Z",
     "iopub.status.busy": "2022-10-29T18:20:41.315447Z",
     "iopub.status.idle": "2022-10-29T18:20:51.019941Z",
     "shell.execute_reply": "2022-10-29T18:20:51.019288Z",
     "shell.execute_reply.started": "2022-10-29T18:20:41.315828Z"
    },
    "tags": []
   },
   "outputs": [],
   "source": [
    "\n",
    "\n",
    "\n",
    "# Load model\n",
    "# word_model = spacy.load('en_core_web_md')# \n",
    "word_model = spacy.load('en_core_sci_lg')"
   ]
  },
  {
   "cell_type": "code",
   "execution_count": null,
   "id": "c38982bf-1e2a-4aec-b1a7-61d061f9e902",
   "metadata": {
    "tags": []
   },
   "outputs": [],
   "source": [
    "# example = word_model(\"Emerging Technologies\")"
   ]
  },
  {
   "cell_type": "code",
   "execution_count": null,
   "id": "019c9353-b06b-4d3f-8c93-82ef99abdee6",
   "metadata": {
    "tags": []
   },
   "outputs": [],
   "source": []
  },
  {
   "cell_type": "code",
   "execution_count": 15,
   "id": "bbe0cfff-8dc8-470e-b864-b174f0d0730f",
   "metadata": {
    "execution": {
     "iopub.execute_input": "2022-10-30T23:59:25.955843Z",
     "iopub.status.busy": "2022-10-30T23:59:25.955455Z",
     "iopub.status.idle": "2022-10-30T23:59:26.014465Z",
     "shell.execute_reply": "2022-10-30T23:59:26.013937Z",
     "shell.execute_reply.started": "2022-10-30T23:59:25.955818Z"
    },
    "tags": []
   },
   "outputs": [
    {
     "data": {
      "text/plain": [
       "0"
      ]
     },
     "execution_count": 15,
     "metadata": {},
     "output_type": "execute_result"
    }
   ],
   "source": [
    "df[\"categories\"].isnull().sum()"
   ]
  },
  {
   "cell_type": "code",
   "execution_count": null,
   "id": "69cd67e4-b4b5-4394-bd8b-72e7c39ebf32",
   "metadata": {
    "tags": []
   },
   "outputs": [],
   "source": [
    "df.shape"
   ]
  },
  {
   "cell_type": "code",
   "execution_count": 18,
   "id": "34c788f8-28fc-4989-8936-93d78936dac0",
   "metadata": {
    "execution": {
     "iopub.execute_input": "2022-10-31T00:00:30.986547Z",
     "iopub.status.busy": "2022-10-31T00:00:30.986141Z",
     "iopub.status.idle": "2022-10-31T00:00:40.679530Z",
     "shell.execute_reply": "2022-10-31T00:00:40.678914Z",
     "shell.execute_reply.started": "2022-10-31T00:00:30.986520Z"
    },
    "tags": []
   },
   "outputs": [],
   "source": [
    "import string\n",
    "\n",
    "punctuations = string.punctuation #list of punctuation to remove from text\n",
    "stopwords = list(STOP_WORDS)\n",
    "\n",
    "# Parser\n",
    "parser = en_core_sci_lg.load()\n",
    "parser.max_length = 700000\n",
    "\n",
    "\n",
    "def spacy_tokenizer(sentence):\n",
    "    ''' Function to preprocess text of scientific papers \n",
    "        (e.g Removing Stopword and puntuations)'''\n",
    "    mytokens = parser(sentence)\n",
    "    mytokens = [ word.lemma_.lower().strip() if word.lemma_ != \"-PRON-\" else word.lower_ for word in mytokens ] # transform to lowercase and then split the scentence\n",
    "    mytokens = [ word for word in mytokens if word not in stopwords and word not in punctuations ] #remove stopsword an punctuation\n",
    "    mytokens = \" \".join([i for i in mytokens]) \n",
    "    return mytokens"
   ]
  },
  {
   "cell_type": "code",
   "execution_count": 3,
   "id": "a4887caa-d941-4e13-ae5f-1ff4fc319bcd",
   "metadata": {
    "execution": {
     "iopub.execute_input": "2022-11-01T13:48:28.589380Z",
     "iopub.status.busy": "2022-11-01T13:48:28.588968Z",
     "iopub.status.idle": "2022-11-01T13:48:28.610035Z",
     "shell.execute_reply": "2022-11-01T13:48:28.609121Z",
     "shell.execute_reply.started": "2022-11-01T13:48:28.589354Z"
    },
    "tags": []
   },
   "outputs": [
    {
     "ename": "NameError",
     "evalue": "name 'df' is not defined",
     "output_type": "error",
     "traceback": [
      "\u001b[0;31m---------------------------------------------------------------------------\u001b[0m",
      "\u001b[0;31mNameError\u001b[0m                                 Traceback (most recent call last)",
      "Cell \u001b[0;32mIn [3], line 39\u001b[0m\n\u001b[1;32m     34\u001b[0m         \u001b[38;5;28mprint\u001b[39m(sentence)\n\u001b[1;32m     35\u001b[0m     \u001b[38;5;66;03m#     # sentence_vector     \u001b[39;00m\n\u001b[1;32m     36\u001b[0m         \u001b[38;5;66;03m# return [np.array([])]\u001b[39;00m\n\u001b[1;32m     37\u001b[0m     \u001b[38;5;66;03m# return df[['id', 'category_embeddings']]\u001b[39;00m\n\u001b[0;32m---> 39\u001b[0m df[\u001b[38;5;124m\"\u001b[39m\u001b[38;5;124msplit_categories\u001b[39m\u001b[38;5;124m\"\u001b[39m] \u001b[38;5;241m=\u001b[39m df[\u001b[38;5;124m\"\u001b[39m\u001b[38;5;124mcategories\u001b[39m\u001b[38;5;124m\"\u001b[39m]\u001b[38;5;241m.\u001b[39mmap(split_cats)\n\u001b[1;32m     40\u001b[0m df[\u001b[38;5;124m\"\u001b[39m\u001b[38;5;124mcategories_combined\u001b[39m\u001b[38;5;124m\"\u001b[39m] \u001b[38;5;241m=\u001b[39m df[\u001b[38;5;124m\"\u001b[39m\u001b[38;5;124msplit_categories\u001b[39m\u001b[38;5;124m\"\u001b[39m]\u001b[38;5;241m.\u001b[39mmap(get_all_categories_as_string)\n",
      "\u001b[0;31mNameError\u001b[0m: name 'df' is not defined"
     ]
    }
   ],
   "source": [
    "import numpy as np\n",
    "# from dask.distributed import get_worker\n",
    "\n",
    "def split_cats(cats):\n",
    "    cats = cats.split(',')\n",
    "    return [cat_mapper[cat] for cat in cats if cat in cat_mapper.keys()]\n",
    "\n",
    "def get_all_categories_as_string(cats):\n",
    "    return \" \".join(cats)\n",
    "\n",
    "def get_embeddings(df):\n",
    "    model = word_model\n",
    "    # cat = cats_str.categories_combined\n",
    "    # worker = get_worker()\n",
    "    # if hasattr(worker, \"model\"):\n",
    "    #     model = worker.model\n",
    "    # else:\n",
    "    #     # from \n",
    "    #     model = spacy.load('en_core_sci_lg')\n",
    "    #     # model = SentenceTransformer('sentence-transformers/all-mpnet-base-v2')\n",
    "    #     worker.model = model\n",
    "    # sentences = [spacy_tokenizer(x) for x in df['categories_combined'].tolist()]\n",
    "    # sentences = [spacy_tokenizer(x) for x in df['categories_combined'].tolist()]\n",
    "\n",
    "    # sentences = [spacy_tokenizer(x) for x in df['categories_combined'].tolist()]\n",
    "    sentences = spacy_tokenizer(df)\n",
    "    try:\n",
    "        # sentence_vector = [model(sent) for sent in sentences]\n",
    "        sentence_vector = model(sentences)\n",
    "        # df['vector'] = dd.Series(sentence_vector, index=df.index)\n",
    "        return sentence_vector.vector\n",
    "    except:\n",
    "        print(\"Error: \")\n",
    "        print(sentence)\n",
    "    #     # sentence_vector     \n",
    "        # return [np.array([])]\n",
    "    # return df[['id', 'category_embeddings']]\n",
    "    \n",
    "df[\"split_categories\"] = df[\"categories\"].map(split_cats)\n",
    "df[\"categories_combined\"] = df[\"split_categories\"].map(get_all_categories_as_string)\n"
   ]
  },
  {
   "cell_type": "code",
   "execution_count": null,
   "id": "5688a316-73fc-478c-a8ff-62638840255b",
   "metadata": {
    "execution": {
     "iopub.status.busy": "2022-10-28T21:38:59.407809Z",
     "iopub.status.idle": "2022-10-28T21:38:59.408048Z",
     "shell.execute_reply": "2022-10-28T21:38:59.407941Z",
     "shell.execute_reply.started": "2022-10-28T21:38:59.407929Z"
    },
    "tags": []
   },
   "outputs": [],
   "source": [
    "trimmed_df = df.drop_duplicates(subset=[\"categories_combined\"])"
   ]
  },
  {
   "cell_type": "code",
   "execution_count": null,
   "id": "285b62fc-f5e2-4668-8f39-0f1c90106764",
   "metadata": {
    "tags": []
   },
   "outputs": [],
   "source": [
    "# import dask\n",
    "# dask.config.set(scheduler='processes')\n",
    "\n",
    "# from dask.distributed import Client\n",
    "# cluster = LocalCluster()\n",
    "# dask.config.set(scheduler='threads') \n",
    "# client = Client()\n",
    "\n",
    "\n",
    "## TODO return str(list) to store to csv file...."
   ]
  },
  {
   "cell_type": "code",
   "execution_count": null,
   "id": "db058d57-fede-4b2b-b62c-d1b9139293e2",
   "metadata": {
    "tags": []
   },
   "outputs": [],
   "source": [
    "sent = word_model(\"i have a nice hat\")\n",
    "print(sent.vector.shape)"
   ]
  },
  {
   "cell_type": "code",
   "execution_count": null,
   "id": "3503c861-9577-4f97-9d69-3c64ee952268",
   "metadata": {
    "execution": {
     "iopub.status.busy": "2022-10-28T21:38:59.410213Z",
     "iopub.status.idle": "2022-10-28T21:38:59.410480Z",
     "shell.execute_reply": "2022-10-28T21:38:59.410350Z",
     "shell.execute_reply.started": "2022-10-28T21:38:59.410338Z"
    },
    "tags": []
   },
   "outputs": [],
   "source": [
    "cat_embeddings = trimmed_df['categories_combined'].map(lambda x: get_embeddings(x))"
   ]
  },
  {
   "cell_type": "code",
   "execution_count": null,
   "id": "c62bf8fc-01da-4017-9941-0d292d890762",
   "metadata": {
    "tags": []
   },
   "outputs": [],
   "source": [
    "# cat_embeddings = cat_embeddings.map(lambda x: x[0])\n",
    "trimmed_df.dtypes"
   ]
  },
  {
   "cell_type": "code",
   "execution_count": null,
   "id": "8d6a7db3-f633-4361-a1d9-cd3a1900278b",
   "metadata": {
    "tags": []
   },
   "outputs": [],
   "source": [
    "# cat_embeddings.head()"
   ]
  },
  {
   "cell_type": "code",
   "execution_count": null,
   "id": "52b7b82a-c34c-4224-8db0-b0134d87d650",
   "metadata": {
    "tags": []
   },
   "outputs": [],
   "source": [
    "trimmed_df[\"cat_embeddings\"] = cat_embeddings.copy().astype(object)"
   ]
  },
  {
   "cell_type": "code",
   "execution_count": null,
   "id": "1fca72e7-94e0-42a7-98c6-226296f81a5a",
   "metadata": {
    "tags": []
   },
   "outputs": [],
   "source": [
    "trimmed_df.to_csv(\"cat_embeddings.csv\")"
   ]
  },
  {
   "cell_type": "code",
   "execution_count": 3,
   "id": "85f6262d-5867-41c3-9ef6-3452407c3018",
   "metadata": {
    "execution": {
     "iopub.execute_input": "2022-10-30T23:50:36.926407Z",
     "iopub.status.busy": "2022-10-30T23:50:36.926014Z",
     "iopub.status.idle": "2022-10-30T23:50:38.415640Z",
     "shell.execute_reply": "2022-10-30T23:50:38.415024Z",
     "shell.execute_reply.started": "2022-10-30T23:50:36.926382Z"
    },
    "tags": []
   },
   "outputs": [],
   "source": [
    "trimmed_df = pd.read_csv(\"cat_embeddings.csv\") # Error loading the embeddings as str"
   ]
  },
  {
   "cell_type": "code",
   "execution_count": null,
   "id": "32fa30eb-9d14-40dc-9899-e8c1323c915c",
   "metadata": {
    "tags": []
   },
   "outputs": [],
   "source": [
    "## Apply PCA to reduce the vector sizes\n",
    "trimmed_df[\"cat_embeddings\"].shape"
   ]
  },
  {
   "cell_type": "code",
   "execution_count": 4,
   "id": "dce3db47-7cd0-41fc-9dbf-6495acac41bb",
   "metadata": {
    "execution": {
     "iopub.execute_input": "2022-11-01T13:48:33.796399Z",
     "iopub.status.busy": "2022-11-01T13:48:33.795994Z",
     "iopub.status.idle": "2022-11-01T13:48:33.872092Z",
     "shell.execute_reply": "2022-11-01T13:48:33.871466Z",
     "shell.execute_reply.started": "2022-11-01T13:48:33.796374Z"
    },
    "tags": []
   },
   "outputs": [],
   "source": [
    "# X = (trimmed_df[\"cat_embeddings\"].map(lambda x: x[0])).values\n",
    "# X = trimmed_df[\"cat_embeddings\"].values\n",
    "X = np.load(\"X_vectors.npy\")"
   ]
  },
  {
   "cell_type": "code",
   "execution_count": null,
   "id": "98692521-958d-4387-8c09-c47dee91ba0c",
   "metadata": {},
   "outputs": [],
   "source": [
    "X.shape"
   ]
  },
  {
   "cell_type": "code",
   "execution_count": null,
   "id": "ec9c22e7-7708-4f16-84eb-d97252f345f3",
   "metadata": {
    "tags": []
   },
   "outputs": [],
   "source": [
    " # trimmed_df[\"cat_embeddings\"].head()"
   ]
  },
  {
   "cell_type": "code",
   "execution_count": 4,
   "id": "72afaa3a-0d8b-4f25-b7f3-206fb5b456d4",
   "metadata": {
    "execution": {
     "iopub.execute_input": "2022-10-30T23:50:47.416220Z",
     "iopub.status.busy": "2022-10-30T23:50:47.415816Z",
     "iopub.status.idle": "2022-10-30T23:50:47.419041Z",
     "shell.execute_reply": "2022-10-30T23:50:47.418514Z",
     "shell.execute_reply.started": "2022-10-30T23:50:47.416194Z"
    },
    "tags": []
   },
   "outputs": [],
   "source": [
    "# type(X)\n",
    "# X.ravel().shape\n",
    "\n",
    "# X = X.flatten().reshape(size, -1)"
   ]
  },
  {
   "cell_type": "code",
   "execution_count": null,
   "id": "b92f562d-90ff-479e-9de7-fbd51c9ed79c",
   "metadata": {
    "tags": []
   },
   "outputs": [],
   "source": [
    "type(eval(np.array(X[0])))"
   ]
  },
  {
   "cell_type": "code",
   "execution_count": null,
   "id": "1198d5b0-5d8e-4d3a-aa32-f055e9adc8e0",
   "metadata": {
    "tags": []
   },
   "outputs": [],
   "source": [
    "vectors = np.array([])\n",
    "\n",
    "for v in X:\n",
    "    # print(i, type(i), i.shape)\n",
    "    # break\n",
    "    if vectors.size == 0:\n",
    "        # print(v)\n",
    "        vectors = v.reshape(1, -1)\n",
    "    else:\n",
    "        vectors = np.concatenate((vectors, v.reshape(1, -1)), axis=0)"
   ]
  },
  {
   "cell_type": "code",
   "execution_count": null,
   "id": "2012107d-fe2e-4829-b2c9-3afffe10228e",
   "metadata": {
    "tags": []
   },
   "outputs": [],
   "source": [
    "vectors.shape"
   ]
  },
  {
   "cell_type": "code",
   "execution_count": 18,
   "id": "c3b6273b-7432-4dd4-b730-8644d01204b8",
   "metadata": {
    "execution": {
     "iopub.execute_input": "2022-10-29T18:48:18.226325Z",
     "iopub.status.busy": "2022-10-29T18:48:18.225952Z",
     "iopub.status.idle": "2022-10-29T18:48:18.301467Z",
     "shell.execute_reply": "2022-10-29T18:48:18.300860Z",
     "shell.execute_reply.started": "2022-10-29T18:48:18.226301Z"
    },
    "tags": []
   },
   "outputs": [],
   "source": [
    "\n",
    "# X = vectors.copy()\n",
    "# np.save(\"X_vectors.npy\", X)\n",
    "X = np.load(\"X_vectors.npy\")"
   ]
  },
  {
   "cell_type": "code",
   "execution_count": null,
   "id": "087dab26-425a-43a5-80ff-362e23e44bd5",
   "metadata": {
    "tags": []
   },
   "outputs": [],
   "source": [
    "df_x = pd.Series(X.tolist())"
   ]
  },
  {
   "cell_type": "code",
   "execution_count": null,
   "id": "82fa582b-9de7-497c-ae98-bcd2e7890dcd",
   "metadata": {
    "tags": []
   },
   "outputs": [],
   "source": [
    "df_x.dtype"
   ]
  },
  {
   "cell_type": "markdown",
   "id": "006895c8-16b6-4849-8e53-7a01b89b5a6e",
   "metadata": {},
   "source": [
    "## Apply PCA to reduce the feat dimensions"
   ]
  },
  {
   "cell_type": "code",
   "execution_count": 5,
   "id": "ac03e61b-005b-4d7b-af02-0eaf0a0c665e",
   "metadata": {
    "execution": {
     "iopub.execute_input": "2022-11-01T13:48:42.311441Z",
     "iopub.status.busy": "2022-11-01T13:48:42.311051Z",
     "iopub.status.idle": "2022-11-01T13:48:43.639639Z",
     "shell.execute_reply": "2022-11-01T13:48:43.638834Z",
     "shell.execute_reply.started": "2022-11-01T13:48:42.311416Z"
    },
    "tags": []
   },
   "outputs": [
    {
     "data": {
      "text/plain": [
       "(34092, 56)"
      ]
     },
     "execution_count": 5,
     "metadata": {},
     "output_type": "execute_result"
    }
   ],
   "source": [
    "from sklearn.decomposition import PCA\n",
    "\n",
    "pca = PCA(n_components=0.95, random_state=42) #Keep 95% of the variance\n",
    "X_reduced= pca.fit_transform(X)\n",
    "X_reduced.shape"
   ]
  },
  {
   "cell_type": "code",
   "execution_count": 7,
   "id": "66ea15c4-3675-453d-a502-a5681c68d9c7",
   "metadata": {
    "execution": {
     "iopub.execute_input": "2022-11-01T13:48:54.250968Z",
     "iopub.status.busy": "2022-11-01T13:48:54.250577Z",
     "iopub.status.idle": "2022-11-01T13:48:54.256164Z",
     "shell.execute_reply": "2022-11-01T13:48:54.255640Z",
     "shell.execute_reply.started": "2022-11-01T13:48:54.250943Z"
    },
    "tags": []
   },
   "outputs": [
    {
     "data": {
      "text/plain": [
       "['pca_model.pkl']"
      ]
     },
     "execution_count": 7,
     "metadata": {},
     "output_type": "execute_result"
    }
   ],
   "source": [
    "import joblib\n",
    "joblib.dump(pca, \"pca_model.pkl\")"
   ]
  },
  {
   "cell_type": "markdown",
   "id": "013d4f83-871e-4594-9dc1-7eb076dc456b",
   "metadata": {
    "execution": {
     "iopub.execute_input": "2022-10-28T10:45:21.928197Z",
     "iopub.status.busy": "2022-10-28T10:45:21.927890Z"
    },
    "tags": []
   },
   "source": [
    "## Apply K-means Clustering"
   ]
  },
  {
   "cell_type": "code",
   "execution_count": 8,
   "id": "65725b2b-ac68-4080-b7e5-1005d9b09f1d",
   "metadata": {
    "execution": {
     "iopub.execute_input": "2022-10-28T22:46:15.346137Z",
     "iopub.status.busy": "2022-10-28T22:46:15.345746Z",
     "iopub.status.idle": "2022-10-28T22:46:17.553889Z",
     "shell.execute_reply": "2022-10-28T22:46:17.553221Z",
     "shell.execute_reply.started": "2022-10-28T22:46:15.346114Z"
    },
    "tags": []
   },
   "outputs": [],
   "source": [
    "from sklearn.cluster import KMeans\n",
    "import numpy as np\n",
    "import matplotlib.pyplot as plt\n",
    "from sklearn.pipeline import Pipeline\n",
    "from scipy.spatial.distance import cdist\n",
    "from sklearn import metrics"
   ]
  },
  {
   "cell_type": "code",
   "execution_count": 14,
   "id": "2453454f-fee7-4274-8d6d-d7efc41ddf29",
   "metadata": {
    "execution": {
     "iopub.execute_input": "2022-10-28T21:40:22.950983Z",
     "iopub.status.busy": "2022-10-28T21:40:22.950607Z",
     "iopub.status.idle": "2022-10-28T21:47:47.237926Z",
     "shell.execute_reply": "2022-10-28T21:47:47.237104Z",
     "shell.execute_reply.started": "2022-10-28T21:40:22.950957Z"
    },
    "tags": []
   },
   "outputs": [],
   "source": [
    "# find optimal k value\n",
    "r_seed = 42\n",
    "cluster_errors = []\n",
    "\n",
    "for i in range(5, 80):\n",
    "    n_clusters = i\n",
    "    pipe_pca_kmean = Pipeline([(\"cluster\", \n",
    "                                KMeans(n_clusters=n_clusters, \n",
    "                                       random_state=r_seed, \n",
    "                                       verbose=0))]\n",
    "    )\n",
    "\n",
    "    pipe_pca_kmean.fit(X_reduced)\n",
    "    pipe_pca_kmean.predict(X_reduced)\n",
    "    cluster_errors.append(pipe_pca_kmean.named_steps[\"cluster\"].inertia_) "
   ]
  },
  {
   "cell_type": "code",
   "execution_count": 15,
   "id": "f88f2ba1-c529-4069-b8a5-38c0623fa0a2",
   "metadata": {
    "execution": {
     "iopub.execute_input": "2022-10-28T21:47:47.239723Z",
     "iopub.status.busy": "2022-10-28T21:47:47.239400Z",
     "iopub.status.idle": "2022-10-28T21:47:47.377474Z",
     "shell.execute_reply": "2022-10-28T21:47:47.376971Z",
     "shell.execute_reply.started": "2022-10-28T21:47:47.239699Z"
    },
    "tags": []
   },
   "outputs": [
    {
     "data": {
      "image/png": "[encoded data removed]",
      "text/plain": [
       "<Figure size 640x480 with 1 Axes>"
      ]
     },
     "metadata": {},
     "output_type": "display_data"
    }
   ],
   "source": [
    "plt.clf()\n",
    "plt.plot(cluster_errors, \"o-\")\n",
    "plt.xlabel(\"k_clusters\")\n",
    "plt.ylabel(\"sum sq distances from mean\")\n",
    "plt.show()"
   ]
  },
  {
   "cell_type": "code",
   "execution_count": 16,
   "id": "c53ff8d0-c6e9-4c6e-9e34-e3bb1c793600",
   "metadata": {
    "execution": {
     "iopub.execute_input": "2022-10-28T21:47:47.378533Z",
     "iopub.status.busy": "2022-10-28T21:47:47.378248Z",
     "iopub.status.idle": "2022-10-28T21:47:47.380985Z",
     "shell.execute_reply": "2022-10-28T21:47:47.380496Z",
     "shell.execute_reply.started": "2022-10-28T21:47:47.378512Z"
    }
   },
   "outputs": [],
   "source": [
    "## Generate the vectors!!! \n",
    "\n",
    "# df[\"category_mean_vectors\"] = df[\"split_categories\"]"
   ]
  },
  {
   "cell_type": "code",
   "execution_count": null,
   "id": "4259f2fc-2295-4971-9eee-90a82046ce4d",
   "metadata": {},
   "outputs": [],
   "source": [
    "kmeans "
   ]
  },
  {
   "cell_type": "code",
   "execution_count": 22,
   "id": "116ec55a-efca-4c7b-be21-6196270adc45",
   "metadata": {
    "execution": {
     "iopub.execute_input": "2022-10-31T00:01:01.927907Z",
     "iopub.status.busy": "2022-10-31T00:01:01.927343Z",
     "iopub.status.idle": "2022-10-31T00:01:06.960979Z",
     "shell.execute_reply": "2022-10-31T00:01:06.960124Z",
     "shell.execute_reply.started": "2022-10-31T00:01:01.927877Z"
    },
    "tags": []
   },
   "outputs": [],
   "source": [
    "k = 30 # optimal k found in elbow plot\n",
    "# kmeans = KMeans(n_clusters=k, random_state=42)\n",
    "y_pred = kmeans.fit_predict(X_reduced)\n",
    "trimmed_df['kmean_clusters'] = y_pred"
   ]
  },
  {
   "cell_type": "code",
   "execution_count": 21,
   "id": "0f3cce6f-8fdf-4aeb-9e44-2c203ac65d85",
   "metadata": {
    "execution": {
     "iopub.execute_input": "2022-10-31T00:00:59.831020Z",
     "iopub.status.busy": "2022-10-31T00:00:59.830618Z",
     "iopub.status.idle": "2022-10-31T00:01:00.797548Z",
     "shell.execute_reply": "2022-10-31T00:01:00.796958Z",
     "shell.execute_reply.started": "2022-10-31T00:00:59.830994Z"
    },
    "tags": []
   },
   "outputs": [],
   "source": [
    "import joblib\n",
    "# joblib.dump(kmeans, \"kmeans_model.pkl\")\n",
    "kmeans = joblib.load(\"kmeans_model.pkl\")"
   ]
  },
  {
   "cell_type": "code",
   "execution_count": null,
   "id": "3baef863-2813-4b04-ae45-3408dfce2675",
   "metadata": {},
   "outputs": [],
   "source": [
    "np.save(\"X_reduced.npy\", X_reduced)"
   ]
  },
  {
   "cell_type": "code",
   "execution_count": 20,
   "id": "fbd42100-82b1-4767-95ad-f7d584f200c5",
   "metadata": {
    "execution": {
     "iopub.execute_input": "2022-10-31T00:00:56.331076Z",
     "iopub.status.busy": "2022-10-31T00:00:56.330679Z",
     "iopub.status.idle": "2022-10-31T00:00:56.355428Z",
     "shell.execute_reply": "2022-10-31T00:00:56.354868Z",
     "shell.execute_reply.started": "2022-10-31T00:00:56.331051Z"
    },
    "tags": []
   },
   "outputs": [],
   "source": [
    "X_reduced = np.load(\"X_reduced.npy\")"
   ]
  },
  {
   "cell_type": "code",
   "execution_count": null,
   "id": "c3611074-1194-4011-b982-41c6f846591d",
   "metadata": {},
   "outputs": [],
   "source": [
    "X_reduced.shape"
   ]
  },
  {
   "cell_type": "markdown",
   "id": "4418ab46-f685-419e-8603-861e3485b731",
   "metadata": {},
   "source": [
    "## Plot the UMAP of the embeddings"
   ]
  },
  {
   "cell_type": "code",
   "execution_count": 26,
   "id": "fb82fee7-5094-4437-a2a3-24a242cdf06f",
   "metadata": {
    "execution": {
     "iopub.execute_input": "2022-10-28T22:01:58.986648Z",
     "iopub.status.busy": "2022-10-28T22:01:58.986279Z",
     "iopub.status.idle": "2022-10-28T22:02:02.463454Z",
     "shell.execute_reply": "2022-10-28T22:02:02.462808Z",
     "shell.execute_reply.started": "2022-10-28T22:01:58.986624Z"
    },
    "tags": []
   },
   "outputs": [],
   "source": [
    "from umap import UMAP"
   ]
  },
  {
   "cell_type": "code",
   "execution_count": 27,
   "id": "69823630-c37d-4f26-81cc-9860957a0e3b",
   "metadata": {
    "execution": {
     "iopub.execute_input": "2022-10-28T22:02:02.464979Z",
     "iopub.status.busy": "2022-10-28T22:02:02.464664Z",
     "iopub.status.idle": "2022-10-28T22:02:02.467702Z",
     "shell.execute_reply": "2022-10-28T22:02:02.467184Z",
     "shell.execute_reply.started": "2022-10-28T22:02:02.464959Z"
    }
   },
   "outputs": [],
   "source": [
    "#### Count commas in the categories, this gives us the "
   ]
  },
  {
   "cell_type": "code",
   "execution_count": 28,
   "id": "2b458fda-5348-4000-ae30-442144c0610a",
   "metadata": {
    "execution": {
     "iopub.execute_input": "2022-10-28T22:02:02.468635Z",
     "iopub.status.busy": "2022-10-28T22:02:02.468448Z",
     "iopub.status.idle": "2022-10-28T22:02:02.471688Z",
     "shell.execute_reply": "2022-10-28T22:02:02.471190Z",
     "shell.execute_reply.started": "2022-10-28T22:02:02.468618Z"
    },
    "tags": []
   },
   "outputs": [],
   "source": [
    "umap_embeddings = UMAP(n_neighbors=100, min_dist=0.3, n_components=2)"
   ]
  },
  {
   "cell_type": "code",
   "execution_count": 29,
   "id": "993071ba-7754-4131-87f0-5603455d24e0",
   "metadata": {
    "execution": {
     "iopub.execute_input": "2022-10-28T22:02:02.473035Z",
     "iopub.status.busy": "2022-10-28T22:02:02.472770Z",
     "iopub.status.idle": "2022-10-28T22:02:51.957279Z",
     "shell.execute_reply": "2022-10-28T22:02:51.956633Z",
     "shell.execute_reply.started": "2022-10-28T22:02:02.473017Z"
    },
    "tags": []
   },
   "outputs": [],
   "source": [
    "X_umap = umap_embeddings.fit_transform(X_reduced)\n"
   ]
  },
  {
   "cell_type": "code",
   "execution_count": 30,
   "id": "c6b1f9e6-af15-4c4a-a354-84d4d07dbfe3",
   "metadata": {
    "execution": {
     "iopub.execute_input": "2022-10-28T22:02:51.975406Z",
     "iopub.status.busy": "2022-10-28T22:02:51.975209Z",
     "iopub.status.idle": "2022-10-28T22:03:04.855609Z",
     "shell.execute_reply": "2022-10-28T22:03:04.855010Z",
     "shell.execute_reply.started": "2022-10-28T22:02:51.975386Z"
    }
   },
   "outputs": [
    {
     "data": {
      "text/plain": [
       "['umap_model.pkl']"
      ]
     },
     "execution_count": 30,
     "metadata": {},
     "output_type": "execute_result"
    }
   ],
   "source": [
    "joblib.dump(umap_embeddings, \"umap_model.pkl\")"
   ]
  },
  {
   "cell_type": "code",
   "execution_count": null,
   "id": "330a39e4-913c-4839-8840-7883facaaff9",
   "metadata": {
    "tags": []
   },
   "outputs": [],
   "source": [
    "from sklearn.manifold import TSNE\n",
    "\n",
    "tsne = TSNE(verbose=1, perplexity=100, random_state=42)\n",
    "X_embedded = tsne.fit_transform(X)"
   ]
  },
  {
   "cell_type": "code",
   "execution_count": 11,
   "id": "af206410-986c-4648-b702-beb4634161cd",
   "metadata": {
    "execution": {
     "iopub.execute_input": "2022-10-28T22:47:15.686604Z",
     "iopub.status.busy": "2022-10-28T22:47:15.686208Z",
     "iopub.status.idle": "2022-10-28T22:47:15.692270Z",
     "shell.execute_reply": "2022-10-28T22:47:15.691651Z",
     "shell.execute_reply.started": "2022-10-28T22:47:15.686577Z"
    },
    "tags": []
   },
   "outputs": [],
   "source": [
    "# joblib.dump(tsne, \"tsne_model.pkl\")\n",
    "tsne = joblib.load('tsne_model.pkl')"
   ]
  },
  {
   "cell_type": "markdown",
   "id": "30a46c25-0709-4601-9502-eb6817adca1e",
   "metadata": {},
   "source": [
    "## Compare T-SNE and UMAP"
   ]
  },
  {
   "cell_type": "code",
   "execution_count": 13,
   "id": "2d156e5d-4824-48db-a71f-8cc55c7a554e",
   "metadata": {
    "execution": {
     "iopub.execute_input": "2022-10-28T22:47:50.021037Z",
     "iopub.status.busy": "2022-10-28T22:47:50.020649Z",
     "iopub.status.idle": "2022-10-28T22:47:50.132238Z",
     "shell.execute_reply": "2022-10-28T22:47:50.131614Z",
     "shell.execute_reply.started": "2022-10-28T22:47:50.021012Z"
    },
    "tags": []
   },
   "outputs": [],
   "source": [
    "import seaborn as sns"
   ]
  },
  {
   "cell_type": "code",
   "execution_count": null,
   "id": "645d3410-34f4-4d14-9e1b-da6bf158c6b5",
   "metadata": {
    "tags": []
   },
   "outputs": [],
   "source": [
    "\n",
    "\n",
    "# sns settings\n",
    "sns.set(rc={'figure.figsize':(15,15)})\n",
    "\n",
    "# colors\n",
    "palette = sns.color_palette(\"bright\", 1)\n",
    "\n",
    "# plot\n",
    "sns.scatterplot(x=X_embedded[:,0], y=X_embedded[:,1], palette=palette)\n",
    "plt.title('t-SNE without Labels')\n",
    "plt.savefig(\"t-sne_arxvid.png\")\n",
    "plt.show()"
   ]
  },
  {
   "cell_type": "code",
   "execution_count": null,
   "id": "b54562bb-c47f-4932-8c4f-ed62a4eb1e09",
   "metadata": {
    "tags": []
   },
   "outputs": [],
   "source": [
    "# sns settings\n",
    "sns.set(rc={'figure.figsize':(15,15)})\n",
    "\n",
    "# colors\n",
    "palette = sns.color_palette(\"bright\", 1)\n",
    "\n",
    "# plot\n",
    "sns.scatterplot(x=X_umap[:,0], y=X_umap[:,1], palette=palette)\n",
    "plt.title('umap without Labels')\n",
    "plt.savefig(\"umap_arxvid.png\")\n",
    "plt.show()"
   ]
  },
  {
   "cell_type": "markdown",
   "id": "d3ed5080-1018-420c-b9d1-9bb462baf6aa",
   "metadata": {},
   "source": [
    "## Plot Clusters"
   ]
  },
  {
   "cell_type": "code",
   "execution_count": null,
   "id": "084a847c-1552-422b-838c-7c276250ee8a",
   "metadata": {},
   "outputs": [],
   "source": [
    "%matplotlib inline\n",
    "\n",
    "# sns settings\n",
    "sns.set(rc={'figure.figsize':(15,15)})\n",
    "\n",
    "# colors\n",
    "palette = sns.hls_palette(20, l=.4, s=.9)\n",
    "\n",
    "# plot\n",
    "sns.scatterplot(x=X_embedded[:,0], y=X_embedded[:,1], hue=y_pred, legend='full', palette=palette)\n",
    "plt.title('t-SNE with Kmeans Labels')\n",
    "plt.savefig(\"cluster_tsne.png\")\n",
    "plt.show()"
   ]
  },
  {
   "cell_type": "code",
   "execution_count": null,
   "id": "2a74f93a-1604-476c-8478-a1a10b6d0294",
   "metadata": {},
   "outputs": [],
   "source": [
    "# sns settings\n",
    "sns.set(rc={'figure.figsize':(15,15)})\n",
    "\n",
    "# colors\n",
    "palette = sns.hls_palette(20, l=.4, s=.9)\n",
    "\n",
    "# plot\n",
    "sns.scatterplot(x=X_umap[:,0], y=X_umap[:,1], hue=y_pred, legend='full', palette=palette)\n",
    "plt.title('umap with Kmeans Labels')\n",
    "plt.savefig(\"cluster_umap_kmeans_labels.png\")\n",
    "plt.show()"
   ]
  },
  {
   "cell_type": "code",
   "execution_count": 14,
   "id": "b399998e-dc58-4a3b-a531-f79e40c79677",
   "metadata": {
    "execution": {
     "iopub.execute_input": "2022-10-28T22:47:57.956176Z",
     "iopub.status.busy": "2022-10-28T22:47:57.955787Z",
     "iopub.status.idle": "2022-10-28T22:47:57.972093Z",
     "shell.execute_reply": "2022-10-28T22:47:57.971368Z",
     "shell.execute_reply.started": "2022-10-28T22:47:57.956152Z"
    },
    "tags": []
   },
   "outputs": [
    {
     "ename": "ModuleNotFoundError",
     "evalue": "No module named 'plotly'",
     "output_type": "error",
     "traceback": [
      "\u001b[0;31m---------------------------------------------------------------------------\u001b[0m",
      "\u001b[0;31mModuleNotFoundError\u001b[0m                       Traceback (most recent call last)",
      "Cell \u001b[0;32mIn [14], line 1\u001b[0m\n\u001b[0;32m----> 1\u001b[0m \u001b[38;5;28;01mimport\u001b[39;00m \u001b[38;5;21;01mplotly\u001b[39;00m\u001b[38;5;21;01m.\u001b[39;00m\u001b[38;5;21;01mexpress\u001b[39;00m \u001b[38;5;28;01mas\u001b[39;00m \u001b[38;5;21;01mpx\u001b[39;00m\n\u001b[1;32m      2\u001b[0m fig \u001b[38;5;241m=\u001b[39m px\u001b[38;5;241m.\u001b[39mscatter(trimmed_df, x\u001b[38;5;241m=\u001b[39mX_embedded[:,\u001b[38;5;241m0\u001b[39m], y\u001b[38;5;241m=\u001b[39mX_embedded[:,\u001b[38;5;241m1\u001b[39m], color\u001b[38;5;241m=\u001b[39my_pred\u001b[38;5;241m.\u001b[39mastype(\u001b[38;5;28mstr\u001b[39m),\n\u001b[1;32m      3\u001b[0m                  hover_data\u001b[38;5;241m=\u001b[39m[\u001b[38;5;124m'\u001b[39m\u001b[38;5;124mid\u001b[39m\u001b[38;5;124m'\u001b[39m, \u001b[38;5;124m'\u001b[39m\u001b[38;5;124mtitle\u001b[39m\u001b[38;5;124m'\u001b[39m, \u001b[38;5;124m'\u001b[39m\u001b[38;5;124mcategories_combined\u001b[39m\u001b[38;5;124m'\u001b[39m],\n\u001b[1;32m      4\u001b[0m                  height\u001b[38;5;241m=\u001b[39m \u001b[38;5;241m1000\u001b[39m, width\u001b[38;5;241m=\u001b[39m\u001b[38;5;241m1000\u001b[39m,\n\u001b[1;32m      5\u001b[0m                 title \u001b[38;5;241m=\u001b[39m \u001b[38;5;124m\"\u001b[39m\u001b[38;5;124mt-SNE with Kmeans Labels\u001b[39m\u001b[38;5;124m\"\u001b[39m)\n\u001b[1;32m      6\u001b[0m fig\u001b[38;5;241m.\u001b[39mshow()\n",
      "\u001b[0;31mModuleNotFoundError\u001b[0m: No module named 'plotly'"
     ]
    }
   ],
   "source": [
    "import plotly.express as px\n",
    "fig = px.scatter(trimmed_df, x=X_embedded[:,0], y=X_embedded[:,1], color=y_pred.astype(str),\n",
    "                 hover_data=['id', 'title', 'categories_combined'],\n",
    "                 height= 1000, width=1000,\n",
    "                title = \"t-SNE with Kmeans Labels\")\n",
    "fig.show()\n"
   ]
  },
  {
   "cell_type": "code",
   "execution_count": 12,
   "id": "39ff2a39-d724-4316-bd53-103407ca8e96",
   "metadata": {
    "execution": {
     "iopub.execute_input": "2022-10-29T18:45:37.991121Z",
     "iopub.status.busy": "2022-10-29T18:45:37.990751Z",
     "iopub.status.idle": "2022-10-29T18:45:37.995922Z",
     "shell.execute_reply": "2022-10-29T18:45:37.995433Z",
     "shell.execute_reply.started": "2022-10-29T18:45:37.991098Z"
    },
    "tags": []
   },
   "outputs": [
    {
     "data": {
      "text/plain": [
       "0                High Energy Physics - Phenomenology\n",
       "1    Classical Analysis and ODEs Functional Analysis\n",
       "2           General Relativity and Quantum Cosmology\n",
       "3                                  Materials Science\n",
       "4                                       Astrophysics\n",
       "Name: categories_combined, dtype: object"
      ]
     },
     "execution_count": 12,
     "metadata": {},
     "output_type": "execute_result"
    }
   ],
   "source": [
    "df[\"categories_combined\"].head()"
   ]
  },
  {
   "cell_type": "code",
   "execution_count": 17,
   "id": "7d5b2558-e10e-49ee-9f20-b6320d1bdeec",
   "metadata": {
    "execution": {
     "iopub.execute_input": "2022-10-29T18:46:43.926130Z",
     "iopub.status.busy": "2022-10-29T18:46:43.925744Z",
     "iopub.status.idle": "2022-10-29T18:46:43.930204Z",
     "shell.execute_reply": "2022-10-29T18:46:43.929715Z",
     "shell.execute_reply.started": "2022-10-29T18:46:43.926106Z"
    },
    "tags": []
   },
   "outputs": [
    {
     "data": {
      "text/plain": [
       "dtype('O')"
      ]
     },
     "execution_count": 17,
     "metadata": {},
     "output_type": "execute_result"
    }
   ],
   "source": [
    "trimmed_df[\"cat_embeddings\"].dtype"
   ]
  },
  {
   "cell_type": "code",
   "execution_count": 23,
   "id": "a1d26f84-576e-4640-8674-8ac39c70770c",
   "metadata": {
    "execution": {
     "iopub.execute_input": "2022-10-31T00:01:39.341845Z",
     "iopub.status.busy": "2022-10-31T00:01:39.341406Z",
     "iopub.status.idle": "2022-10-31T00:01:39.437837Z",
     "shell.execute_reply": "2022-10-31T00:01:39.437191Z",
     "shell.execute_reply.started": "2022-10-31T00:01:39.341817Z"
    },
    "tags": []
   },
   "outputs": [],
   "source": [
    "x_red_df = pd.Series(X_reduced.tolist(), dtype=object)"
   ]
  },
  {
   "cell_type": "code",
   "execution_count": 32,
   "id": "5482ff3e-95ff-430a-b35f-f26952fc4c6d",
   "metadata": {
    "execution": {
     "iopub.execute_input": "2022-10-29T18:55:35.597648Z",
     "iopub.status.busy": "2022-10-29T18:55:35.597255Z",
     "iopub.status.idle": "2022-10-29T18:55:36.762291Z",
     "shell.execute_reply": "2022-10-29T18:55:36.761682Z",
     "shell.execute_reply.started": "2022-10-29T18:55:35.597625Z"
    },
    "tags": []
   },
   "outputs": [],
   "source": [
    "x_red_df = x_red_df.map(lambda x: str(x))"
   ]
  },
  {
   "cell_type": "code",
   "execution_count": 24,
   "id": "fb07115a-2d4b-4fde-b06b-1096dbcf2daf",
   "metadata": {
    "execution": {
     "iopub.execute_input": "2022-10-31T00:01:41.623474Z",
     "iopub.status.busy": "2022-10-31T00:01:41.623064Z",
     "iopub.status.idle": "2022-10-31T00:01:41.675471Z",
     "shell.execute_reply": "2022-10-31T00:01:41.674877Z",
     "shell.execute_reply.started": "2022-10-31T00:01:41.623448Z"
    },
    "tags": []
   },
   "outputs": [],
   "source": [
    "trimmed_df[\"cat_embeddings\"] = x_red_df"
   ]
  },
  {
   "cell_type": "code",
   "execution_count": 26,
   "id": "53c3b585-ed07-4730-91c2-388af7c83254",
   "metadata": {
    "execution": {
     "iopub.execute_input": "2022-10-31T00:02:08.495989Z",
     "iopub.status.busy": "2022-10-31T00:02:08.495601Z",
     "iopub.status.idle": "2022-10-31T00:02:08.498825Z",
     "shell.execute_reply": "2022-10-31T00:02:08.498289Z",
     "shell.execute_reply.started": "2022-10-31T00:02:08.495963Z"
    },
    "tags": []
   },
   "outputs": [],
   "source": [
    "# trimmed_df.head()"
   ]
  },
  {
   "cell_type": "markdown",
   "id": "aca51feb-829c-4e40-982a-c13881ccb37f",
   "metadata": {},
   "source": [
    "## Merge the embeddings with the original dataframe"
   ]
  },
  {
   "cell_type": "code",
   "execution_count": 5,
   "id": "28d8ac73-e61e-4309-9d8b-96715cdea0a1",
   "metadata": {
    "execution": {
     "iopub.execute_input": "2022-10-30T23:52:07.835919Z",
     "iopub.status.busy": "2022-10-30T23:52:07.835522Z",
     "iopub.status.idle": "2022-10-30T23:52:15.394491Z",
     "shell.execute_reply": "2022-10-30T23:52:15.393873Z",
     "shell.execute_reply.started": "2022-10-30T23:52:07.835891Z"
    },
    "tags": []
   },
   "outputs": [
    {
     "name": "stderr",
     "output_type": "stream",
     "text": [
      "/tmp/ipykernel_1139/3349443742.py:1: DtypeWarning: Columns (1) have mixed types. Specify dtype option on import or set low_memory=False.\n",
      "  df = pd.read_csv(\"df_merged_pca_embeds.csv\")\n"
     ]
    }
   ],
   "source": [
    "df = pd.read_csv(\"df_merged_pca_embeds.csv\")"
   ]
  },
  {
   "cell_type": "code",
   "execution_count": 27,
   "id": "0a480de2-151b-494a-83e0-af7df870650b",
   "metadata": {
    "execution": {
     "iopub.execute_input": "2022-10-31T00:02:17.386091Z",
     "iopub.status.busy": "2022-10-31T00:02:17.385687Z",
     "iopub.status.idle": "2022-10-31T00:02:17.390395Z",
     "shell.execute_reply": "2022-10-31T00:02:17.389822Z",
     "shell.execute_reply.started": "2022-10-31T00:02:17.386066Z"
    },
    "tags": []
   },
   "outputs": [
    {
     "data": {
      "text/plain": [
       "Index(['id', 'title', 'year', 'authors', 'categories', 'abstract',\n",
       "       'count_cats', 'split_categories', 'categories_combined'],\n",
       "      dtype='object')"
      ]
     },
     "execution_count": 27,
     "metadata": {},
     "output_type": "execute_result"
    }
   ],
   "source": [
    "df.columns"
   ]
  },
  {
   "cell_type": "code",
   "execution_count": 28,
   "id": "832dab73-972e-4b4e-9e81-76ec7a51a3d4",
   "metadata": {
    "execution": {
     "iopub.execute_input": "2022-10-31T00:02:20.296476Z",
     "iopub.status.busy": "2022-10-31T00:02:20.296084Z",
     "iopub.status.idle": "2022-10-31T00:02:20.300722Z",
     "shell.execute_reply": "2022-10-31T00:02:20.300204Z",
     "shell.execute_reply.started": "2022-10-31T00:02:20.296447Z"
    },
    "tags": []
   },
   "outputs": [
    {
     "data": {
      "text/plain": [
       "Index(['Unnamed: 0', 'id', 'title', 'year', 'authors', 'categories',\n",
       "       'abstract', 'count_cats', 'split_categories', 'categories_combined',\n",
       "       'cat_embeddings', 'kmean_clusters'],\n",
       "      dtype='object')"
      ]
     },
     "execution_count": 28,
     "metadata": {},
     "output_type": "execute_result"
    }
   ],
   "source": [
    "trimmed_df.columns"
   ]
  },
  {
   "cell_type": "code",
   "execution_count": 38,
   "id": "068fc89a-100d-45a8-80dd-2dc835fd430e",
   "metadata": {
    "execution": {
     "iopub.execute_input": "2022-10-31T00:04:19.005954Z",
     "iopub.status.busy": "2022-10-31T00:04:19.005527Z",
     "iopub.status.idle": "2022-10-31T00:04:19.010919Z",
     "shell.execute_reply": "2022-10-31T00:04:19.010391Z",
     "shell.execute_reply.started": "2022-10-31T00:04:19.005925Z"
    }
   },
   "outputs": [
    {
     "data": {
      "text/plain": [
       "0                High Energy Physics - Phenomenology\n",
       "1    Classical Analysis and ODEs Functional Analysis\n",
       "2           General Relativity and Quantum Cosmology\n",
       "3                                  Materials Science\n",
       "4                                       Astrophysics\n",
       "Name: categories_combined, dtype: object"
      ]
     },
     "execution_count": 38,
     "metadata": {},
     "output_type": "execute_result"
    }
   ],
   "source": [
    "df[\"categories_combined\"].head()"
   ]
  },
  {
   "cell_type": "code",
   "execution_count": 37,
   "id": "feddb44e-4e7c-4565-93a8-3db6749f75b1",
   "metadata": {
    "execution": {
     "iopub.execute_input": "2022-10-31T00:04:02.530992Z",
     "iopub.status.busy": "2022-10-31T00:04:02.530591Z",
     "iopub.status.idle": "2022-10-31T00:04:02.535875Z",
     "shell.execute_reply": "2022-10-31T00:04:02.535359Z",
     "shell.execute_reply.started": "2022-10-31T00:04:02.530966Z"
    },
    "tags": []
   },
   "outputs": [
    {
     "data": {
      "text/plain": [
       "0                High Energy Physics - Phenomenology\n",
       "1    Classical Analysis and ODEs Functional Analysis\n",
       "2           General Relativity and Quantum Cosmology\n",
       "3                                  Materials Science\n",
       "4                                       Astrophysics\n",
       "Name: categories_combined, dtype: object"
      ]
     },
     "execution_count": 37,
     "metadata": {},
     "output_type": "execute_result"
    }
   ],
   "source": [
    "trimmed_df[\"categories_combined\"].head()"
   ]
  },
  {
   "cell_type": "code",
   "execution_count": 39,
   "id": "9427d2b5-a583-4384-8a9a-f093c79ddf8c",
   "metadata": {
    "execution": {
     "iopub.execute_input": "2022-10-31T00:08:12.786582Z",
     "iopub.status.busy": "2022-10-31T00:08:12.786192Z",
     "iopub.status.idle": "2022-10-31T00:08:14.761723Z",
     "shell.execute_reply": "2022-10-31T00:08:14.761075Z",
     "shell.execute_reply.started": "2022-10-31T00:08:12.786557Z"
    },
    "tags": []
   },
   "outputs": [],
   "source": [
    "df_merged = pd.merge(df, trimmed_df[[\"categories_combined\", \"cat_embeddings\", \"kmean_clusters\"]], how='inner', on=[\"categories_combined\"])"
   ]
  },
  {
   "cell_type": "code",
   "execution_count": 42,
   "id": "e89d8774-acf6-4745-a1ab-ec3f60cde497",
   "metadata": {
    "execution": {
     "iopub.execute_input": "2022-10-31T00:08:31.576433Z",
     "iopub.status.busy": "2022-10-31T00:08:31.576031Z",
     "iopub.status.idle": "2022-10-31T00:08:31.580613Z",
     "shell.execute_reply": "2022-10-31T00:08:31.580094Z",
     "shell.execute_reply.started": "2022-10-31T00:08:31.576404Z"
    },
    "tags": []
   },
   "outputs": [
    {
     "data": {
      "text/plain": [
       "Index(['id', 'title', 'year', 'authors', 'categories', 'abstract',\n",
       "       'count_cats', 'split_categories', 'categories_combined',\n",
       "       'cat_embeddings', 'kmean_clusters'],\n",
       "      dtype='object')"
      ]
     },
     "execution_count": 42,
     "metadata": {},
     "output_type": "execute_result"
    }
   ],
   "source": [
    "df_merged.columns"
   ]
  },
  {
   "cell_type": "code",
   "execution_count": 30,
   "id": "ba052ebe-6191-4604-bb12-060c31e61ad8",
   "metadata": {
    "execution": {
     "iopub.execute_input": "2022-10-31T00:02:45.301204Z",
     "iopub.status.busy": "2022-10-31T00:02:45.300821Z",
     "iopub.status.idle": "2022-10-31T00:02:45.659521Z",
     "shell.execute_reply": "2022-10-31T00:02:45.658904Z",
     "shell.execute_reply.started": "2022-10-31T00:02:45.301176Z"
    },
    "tags": []
   },
   "outputs": [],
   "source": [
    "null_df_merged = df_merged[df_merged[\"cat_embeddings\"].isnull()]"
   ]
  },
  {
   "cell_type": "code",
   "execution_count": 41,
   "id": "57e01ad6-c75e-421c-b495-d0cad2141689",
   "metadata": {
    "execution": {
     "iopub.execute_input": "2022-10-31T00:08:23.500824Z",
     "iopub.status.busy": "2022-10-31T00:08:23.500434Z",
     "iopub.status.idle": "2022-10-31T00:08:23.505022Z",
     "shell.execute_reply": "2022-10-31T00:08:23.504443Z",
     "shell.execute_reply.started": "2022-10-31T00:08:23.500798Z"
    },
    "tags": []
   },
   "outputs": [
    {
     "data": {
      "text/plain": [
       "717410"
      ]
     },
     "execution_count": 41,
     "metadata": {},
     "output_type": "execute_result"
    }
   ],
   "source": [
    "len(df_merged)"
   ]
  },
  {
   "cell_type": "code",
   "execution_count": 57,
   "id": "6e0d3987-1678-4152-88d6-f9a8c5210eef",
   "metadata": {
    "execution": {
     "iopub.execute_input": "2022-10-29T19:27:24.130561Z",
     "iopub.status.busy": "2022-10-29T19:27:24.130185Z",
     "iopub.status.idle": "2022-10-29T19:27:24.133425Z",
     "shell.execute_reply": "2022-10-29T19:27:24.132864Z",
     "shell.execute_reply.started": "2022-10-29T19:27:24.130536Z"
    },
    "tags": []
   },
   "outputs": [],
   "source": [
    "# null_df_merged.head()"
   ]
  },
  {
   "cell_type": "code",
   "execution_count": 32,
   "id": "66489760-8d06-4933-8fba-17df6cd19401",
   "metadata": {
    "execution": {
     "iopub.execute_input": "2022-10-31T00:03:01.441882Z",
     "iopub.status.busy": "2022-10-31T00:03:01.441486Z",
     "iopub.status.idle": "2022-10-31T00:03:01.836258Z",
     "shell.execute_reply": "2022-10-31T00:03:01.835609Z",
     "shell.execute_reply.started": "2022-10-31T00:03:01.441851Z"
    },
    "tags": []
   },
   "outputs": [],
   "source": [
    "# df_merged = df[~df_merged[\"cat_embeddings\"].isnull()]"
   ]
  },
  {
   "cell_type": "code",
   "execution_count": 33,
   "id": "9918d3b4-88ae-42c3-9870-15896cdf4ac8",
   "metadata": {
    "execution": {
     "iopub.execute_input": "2022-10-31T00:03:08.035777Z",
     "iopub.status.busy": "2022-10-31T00:03:08.035404Z",
     "iopub.status.idle": "2022-10-31T00:03:08.039886Z",
     "shell.execute_reply": "2022-10-31T00:03:08.039295Z",
     "shell.execute_reply.started": "2022-10-31T00:03:08.035749Z"
    }
   },
   "outputs": [
    {
     "data": {
      "text/plain": [
       "717410"
      ]
     },
     "execution_count": 33,
     "metadata": {},
     "output_type": "execute_result"
    }
   ],
   "source": [
    "len(df_merged)"
   ]
  },
  {
   "cell_type": "code",
   "execution_count": 43,
   "id": "3e277007-76f7-49a4-92bb-889a74dd51c5",
   "metadata": {
    "execution": {
     "iopub.execute_input": "2022-10-31T00:08:41.860722Z",
     "iopub.status.busy": "2022-10-31T00:08:41.860334Z",
     "iopub.status.idle": "2022-10-31T00:09:40.329235Z",
     "shell.execute_reply": "2022-10-31T00:09:40.328591Z",
     "shell.execute_reply.started": "2022-10-31T00:08:41.860696Z"
    },
    "tags": []
   },
   "outputs": [],
   "source": [
    "df_merged.to_csv(\"df_merged_pca_embeds.csv\", index=False)"
   ]
  },
  {
   "cell_type": "code",
   "execution_count": null,
   "id": "ea11f3a5-f084-4eae-938b-6742e55c896d",
   "metadata": {},
   "outputs": [],
   "source": []
  }
 ],
 "metadata": {
  "kernelspec": {
   "display_name": "saturn (Python 3)",
   "language": "python",
   "name": "python3"
  },
  "language_info": {
   "codemirror_mode": {
    "name": "ipython",
    "version": 3
   },
   "file_extension": ".py",
   "mimetype": "text/x-python",
   "name": "python",
   "nbconvert_exporter": "python",
   "pygments_lexer": "ipython3",
   "version": "3.9.13"
  }
 },
 "nbformat": 4,
 "nbformat_minor": 5
}
